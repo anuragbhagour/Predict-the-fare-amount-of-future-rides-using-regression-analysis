{
 "cells": [
  {
   "cell_type": "code",
   "execution_count": 4,
   "id": "82e6cc79",
   "metadata": {
    "execution": {
     "iopub.execute_input": "2024-07-09T02:06:33.982995Z",
     "iopub.status.busy": "2024-07-09T02:06:33.982543Z",
     "iopub.status.idle": "2024-07-09T02:06:34.000828Z",
     "shell.execute_reply": "2024-07-09T02:06:33.999794Z"
    },
    "papermill": {
     "duration": 0.041477,
     "end_time": "2024-07-09T02:06:34.003616",
     "exception": false,
     "start_time": "2024-07-09T02:06:33.962139",
     "status": "completed"
    },
    "tags": []
   },
   "outputs": [],
   "source": [
    "# finding source location\n",
    "import os\n",
    "for dirname, _, filenames in os.walk('/kaggle/input'):\n",
    "    for filename in filenames:\n",
    "        src = os.path.join(dirname, filename)\n",
    "        \n",
    "# ignoring warnings\n",
    "import warnings\n",
    "warnings.filterwarnings('ignore')"
   ]
  },
  {
   "cell_type": "code",
   "execution_count": 5,
   "id": "8435b256",
   "metadata": {
    "execution": {
     "iopub.execute_input": "2024-07-09T02:06:34.045393Z",
     "iopub.status.busy": "2024-07-09T02:06:34.045037Z",
     "iopub.status.idle": "2024-07-09T02:06:35.829350Z",
     "shell.execute_reply": "2024-07-09T02:06:35.828301Z"
    },
    "papermill": {
     "duration": 1.808789,
     "end_time": "2024-07-09T02:06:35.831933",
     "exception": false,
     "start_time": "2024-07-09T02:06:34.023144",
     "status": "completed"
    },
    "tags": []
   },
   "outputs": [
    {
     "data": {
      "text/html": [
       "<div>\n",
       "<style scoped>\n",
       "    .dataframe tbody tr th:only-of-type {\n",
       "        vertical-align: middle;\n",
       "    }\n",
       "\n",
       "    .dataframe tbody tr th {\n",
       "        vertical-align: top;\n",
       "    }\n",
       "\n",
       "    .dataframe thead th {\n",
       "        text-align: right;\n",
       "    }\n",
       "</style>\n",
       "<table border=\"1\" class=\"dataframe\">\n",
       "  <thead>\n",
       "    <tr style=\"text-align: right;\">\n",
       "      <th></th>\n",
       "      <th>Unnamed: 0</th>\n",
       "      <th>key</th>\n",
       "      <th>fare_amount</th>\n",
       "      <th>pickup_datetime</th>\n",
       "      <th>pickup_longitude</th>\n",
       "      <th>pickup_latitude</th>\n",
       "      <th>dropoff_longitude</th>\n",
       "      <th>dropoff_latitude</th>\n",
       "      <th>passenger_count</th>\n",
       "    </tr>\n",
       "  </thead>\n",
       "  <tbody>\n",
       "    <tr>\n",
       "      <th>0</th>\n",
       "      <td>24238194</td>\n",
       "      <td>2015-05-07 19:52:06.0000003</td>\n",
       "      <td>7.5</td>\n",
       "      <td>2015-05-07 19:52:06 UTC</td>\n",
       "      <td>-73.999817</td>\n",
       "      <td>40.738354</td>\n",
       "      <td>-73.999512</td>\n",
       "      <td>40.723217</td>\n",
       "      <td>1</td>\n",
       "    </tr>\n",
       "    <tr>\n",
       "      <th>1</th>\n",
       "      <td>27835199</td>\n",
       "      <td>2009-07-17 20:04:56.0000002</td>\n",
       "      <td>7.7</td>\n",
       "      <td>2009-07-17 20:04:56 UTC</td>\n",
       "      <td>-73.994355</td>\n",
       "      <td>40.728225</td>\n",
       "      <td>-73.994710</td>\n",
       "      <td>40.750325</td>\n",
       "      <td>1</td>\n",
       "    </tr>\n",
       "    <tr>\n",
       "      <th>2</th>\n",
       "      <td>44984355</td>\n",
       "      <td>2009-08-24 21:45:00.00000061</td>\n",
       "      <td>12.9</td>\n",
       "      <td>2009-08-24 21:45:00 UTC</td>\n",
       "      <td>-74.005043</td>\n",
       "      <td>40.740770</td>\n",
       "      <td>-73.962565</td>\n",
       "      <td>40.772647</td>\n",
       "      <td>1</td>\n",
       "    </tr>\n",
       "    <tr>\n",
       "      <th>3</th>\n",
       "      <td>25894730</td>\n",
       "      <td>2009-06-26 08:22:21.0000001</td>\n",
       "      <td>5.3</td>\n",
       "      <td>2009-06-26 08:22:21 UTC</td>\n",
       "      <td>-73.976124</td>\n",
       "      <td>40.790844</td>\n",
       "      <td>-73.965316</td>\n",
       "      <td>40.803349</td>\n",
       "      <td>3</td>\n",
       "    </tr>\n",
       "    <tr>\n",
       "      <th>4</th>\n",
       "      <td>17610152</td>\n",
       "      <td>2014-08-28 17:47:00.000000188</td>\n",
       "      <td>16.0</td>\n",
       "      <td>2014-08-28 17:47:00 UTC</td>\n",
       "      <td>-73.925023</td>\n",
       "      <td>40.744085</td>\n",
       "      <td>-73.973082</td>\n",
       "      <td>40.761247</td>\n",
       "      <td>5</td>\n",
       "    </tr>\n",
       "  </tbody>\n",
       "</table>\n",
       "</div>"
      ],
      "text/plain": [
       "   Unnamed: 0                            key  fare_amount  \\\n",
       "0    24238194    2015-05-07 19:52:06.0000003          7.5   \n",
       "1    27835199    2009-07-17 20:04:56.0000002          7.7   \n",
       "2    44984355   2009-08-24 21:45:00.00000061         12.9   \n",
       "3    25894730    2009-06-26 08:22:21.0000001          5.3   \n",
       "4    17610152  2014-08-28 17:47:00.000000188         16.0   \n",
       "\n",
       "           pickup_datetime  pickup_longitude  pickup_latitude  \\\n",
       "0  2015-05-07 19:52:06 UTC        -73.999817        40.738354   \n",
       "1  2009-07-17 20:04:56 UTC        -73.994355        40.728225   \n",
       "2  2009-08-24 21:45:00 UTC        -74.005043        40.740770   \n",
       "3  2009-06-26 08:22:21 UTC        -73.976124        40.790844   \n",
       "4  2014-08-28 17:47:00 UTC        -73.925023        40.744085   \n",
       "\n",
       "   dropoff_longitude  dropoff_latitude  passenger_count  \n",
       "0         -73.999512         40.723217                1  \n",
       "1         -73.994710         40.750325                1  \n",
       "2         -73.962565         40.772647                1  \n",
       "3         -73.965316         40.803349                3  \n",
       "4         -73.973082         40.761247                5  "
      ]
     },
     "execution_count": 5,
     "metadata": {},
     "output_type": "execute_result"
    }
   ],
   "source": [
    "# reading data\n",
    "import numpy as np\n",
    "import pandas as pd\n",
    "\n",
    "df = pd.read_csv(\"uber.csv\")\n",
    "df.head()"
   ]
  },
  {
   "cell_type": "code",
   "execution_count": 6,
   "id": "73ee91e4",
   "metadata": {
    "execution": {
     "iopub.execute_input": "2024-07-09T02:06:35.911778Z",
     "iopub.status.busy": "2024-07-09T02:06:35.911383Z",
     "iopub.status.idle": "2024-07-09T02:06:35.918338Z",
     "shell.execute_reply": "2024-07-09T02:06:35.917269Z"
    },
    "papermill": {
     "duration": 0.029549,
     "end_time": "2024-07-09T02:06:35.920471",
     "exception": false,
     "start_time": "2024-07-09T02:06:35.890922",
     "status": "completed"
    },
    "tags": []
   },
   "outputs": [
    {
     "data": {
      "text/plain": [
       "Index(['Unnamed: 0', 'key', 'fare_amount', 'pickup_datetime',\n",
       "       'pickup_longitude', 'pickup_latitude', 'dropoff_longitude',\n",
       "       'dropoff_latitude', 'passenger_count'],\n",
       "      dtype='object')"
      ]
     },
     "execution_count": 6,
     "metadata": {},
     "output_type": "execute_result"
    }
   ],
   "source": [
    "# getting column names\n",
    "df.columns"
   ]
  },
  {
   "cell_type": "code",
   "execution_count": 7,
   "id": "90b7097f",
   "metadata": {
    "execution": {
     "iopub.execute_input": "2024-07-09T02:06:35.961152Z",
     "iopub.status.busy": "2024-07-09T02:06:35.960478Z",
     "iopub.status.idle": "2024-07-09T02:06:36.006195Z",
     "shell.execute_reply": "2024-07-09T02:06:36.004993Z"
    },
    "papermill": {
     "duration": 0.068835,
     "end_time": "2024-07-09T02:06:36.008783",
     "exception": false,
     "start_time": "2024-07-09T02:06:35.939948",
     "status": "completed"
    },
    "tags": []
   },
   "outputs": [
    {
     "name": "stdout",
     "output_type": "stream",
     "text": [
      "<class 'pandas.core.frame.DataFrame'>\n",
      "RangeIndex: 200000 entries, 0 to 199999\n",
      "Data columns (total 9 columns):\n",
      " #   Column             Non-Null Count   Dtype  \n",
      "---  ------             --------------   -----  \n",
      " 0   Unnamed: 0         200000 non-null  int64  \n",
      " 1   key                200000 non-null  object \n",
      " 2   fare_amount        200000 non-null  float64\n",
      " 3   pickup_datetime    200000 non-null  object \n",
      " 4   pickup_longitude   200000 non-null  float64\n",
      " 5   pickup_latitude    200000 non-null  float64\n",
      " 6   dropoff_longitude  199999 non-null  float64\n",
      " 7   dropoff_latitude   199999 non-null  float64\n",
      " 8   passenger_count    200000 non-null  int64  \n",
      "dtypes: float64(5), int64(2), object(2)\n",
      "memory usage: 13.7+ MB\n"
     ]
    }
   ],
   "source": [
    "# getting dataset info\n",
    "df.info()"
   ]
  },
  {
   "cell_type": "code",
   "execution_count": 8,
   "id": "2bc263b8",
   "metadata": {
    "execution": {
     "iopub.execute_input": "2024-07-09T02:06:36.051196Z",
     "iopub.status.busy": "2024-07-09T02:06:36.050830Z",
     "iopub.status.idle": "2024-07-09T02:06:36.088860Z",
     "shell.execute_reply": "2024-07-09T02:06:36.087575Z"
    },
    "papermill": {
     "duration": 0.062032,
     "end_time": "2024-07-09T02:06:36.091445",
     "exception": false,
     "start_time": "2024-07-09T02:06:36.029413",
     "status": "completed"
    },
    "tags": []
   },
   "outputs": [
    {
     "data": {
      "text/html": [
       "<div>\n",
       "<style scoped>\n",
       "    .dataframe tbody tr th:only-of-type {\n",
       "        vertical-align: middle;\n",
       "    }\n",
       "\n",
       "    .dataframe tbody tr th {\n",
       "        vertical-align: top;\n",
       "    }\n",
       "\n",
       "    .dataframe thead th {\n",
       "        text-align: right;\n",
       "    }\n",
       "</style>\n",
       "<table border=\"1\" class=\"dataframe\">\n",
       "  <thead>\n",
       "    <tr style=\"text-align: right;\">\n",
       "      <th></th>\n",
       "      <th>fare_amount</th>\n",
       "      <th>passenger_count</th>\n",
       "    </tr>\n",
       "  </thead>\n",
       "  <tbody>\n",
       "    <tr>\n",
       "      <th>count</th>\n",
       "      <td>200000.000000</td>\n",
       "      <td>200000.000000</td>\n",
       "    </tr>\n",
       "    <tr>\n",
       "      <th>mean</th>\n",
       "      <td>11.359955</td>\n",
       "      <td>1.684535</td>\n",
       "    </tr>\n",
       "    <tr>\n",
       "      <th>std</th>\n",
       "      <td>9.901776</td>\n",
       "      <td>1.385997</td>\n",
       "    </tr>\n",
       "    <tr>\n",
       "      <th>min</th>\n",
       "      <td>-52.000000</td>\n",
       "      <td>0.000000</td>\n",
       "    </tr>\n",
       "    <tr>\n",
       "      <th>25%</th>\n",
       "      <td>6.000000</td>\n",
       "      <td>1.000000</td>\n",
       "    </tr>\n",
       "    <tr>\n",
       "      <th>50%</th>\n",
       "      <td>8.500000</td>\n",
       "      <td>1.000000</td>\n",
       "    </tr>\n",
       "    <tr>\n",
       "      <th>75%</th>\n",
       "      <td>12.500000</td>\n",
       "      <td>2.000000</td>\n",
       "    </tr>\n",
       "    <tr>\n",
       "      <th>max</th>\n",
       "      <td>499.000000</td>\n",
       "      <td>208.000000</td>\n",
       "    </tr>\n",
       "  </tbody>\n",
       "</table>\n",
       "</div>"
      ],
      "text/plain": [
       "         fare_amount  passenger_count\n",
       "count  200000.000000    200000.000000\n",
       "mean       11.359955         1.684535\n",
       "std         9.901776         1.385997\n",
       "min       -52.000000         0.000000\n",
       "25%         6.000000         1.000000\n",
       "50%         8.500000         1.000000\n",
       "75%        12.500000         2.000000\n",
       "max       499.000000       208.000000"
      ]
     },
     "execution_count": 8,
     "metadata": {},
     "output_type": "execute_result"
    }
   ],
   "source": [
    "# looking at statistical info of the numerical columns\n",
    "\n",
    "df[['fare_amount', 'passenger_count']].describe()"
   ]
  },
  {
   "cell_type": "code",
   "execution_count": 9,
   "id": "891d3e25",
   "metadata": {
    "execution": {
     "iopub.execute_input": "2024-07-09T02:06:36.172885Z",
     "iopub.status.busy": "2024-07-09T02:06:36.172086Z",
     "iopub.status.idle": "2024-07-09T02:06:36.201587Z",
     "shell.execute_reply": "2024-07-09T02:06:36.200368Z"
    },
    "papermill": {
     "duration": 0.053062,
     "end_time": "2024-07-09T02:06:36.204161",
     "exception": false,
     "start_time": "2024-07-09T02:06:36.151099",
     "status": "completed"
    },
    "tags": []
   },
   "outputs": [
    {
     "data": {
      "text/plain": [
       "Unnamed: 0           0\n",
       "key                  0\n",
       "fare_amount          0\n",
       "pickup_datetime      0\n",
       "pickup_longitude     0\n",
       "pickup_latitude      0\n",
       "dropoff_longitude    1\n",
       "dropoff_latitude     1\n",
       "passenger_count      0\n",
       "dtype: int64"
      ]
     },
     "execution_count": 9,
     "metadata": {},
     "output_type": "execute_result"
    }
   ],
   "source": [
    "# checking for null values\n",
    "df.isna().sum()"
   ]
  },
  {
   "cell_type": "code",
   "execution_count": 10,
   "id": "9db2e31a",
   "metadata": {
    "execution": {
     "iopub.execute_input": "2024-07-09T02:06:36.248279Z",
     "iopub.status.busy": "2024-07-09T02:06:36.247365Z",
     "iopub.status.idle": "2024-07-09T02:06:36.323604Z",
     "shell.execute_reply": "2024-07-09T02:06:36.322379Z"
    },
    "papermill": {
     "duration": 0.100812,
     "end_time": "2024-07-09T02:06:36.326182",
     "exception": false,
     "start_time": "2024-07-09T02:06:36.225370",
     "status": "completed"
    },
    "tags": []
   },
   "outputs": [
    {
     "data": {
      "text/plain": [
       "Unnamed: 0           0\n",
       "key                  0\n",
       "fare_amount          0\n",
       "pickup_datetime      0\n",
       "pickup_longitude     0\n",
       "pickup_latitude      0\n",
       "dropoff_longitude    0\n",
       "dropoff_latitude     0\n",
       "passenger_count      0\n",
       "dtype: int64"
      ]
     },
     "execution_count": 10,
     "metadata": {},
     "output_type": "execute_result"
    }
   ],
   "source": [
    "# drop null values\n",
    "df = df.dropna()\n",
    "df = df.reset_index(drop=True)\n",
    "\n",
    "# check again for null values\n",
    "df.isna().sum()"
   ]
  },
  {
   "cell_type": "code",
   "execution_count": 11,
   "id": "86998527",
   "metadata": {
    "execution": {
     "iopub.execute_input": "2024-07-09T02:06:36.427555Z",
     "iopub.status.busy": "2024-07-09T02:06:36.427123Z",
     "iopub.status.idle": "2024-07-09T02:06:36.624910Z",
     "shell.execute_reply": "2024-07-09T02:06:36.623671Z"
    },
    "papermill": {
     "duration": 0.221719,
     "end_time": "2024-07-09T02:06:36.627253",
     "exception": false,
     "start_time": "2024-07-09T02:06:36.405534",
     "status": "completed"
    },
    "tags": []
   },
   "outputs": [
    {
     "data": {
      "text/plain": [
       "0"
      ]
     },
     "execution_count": 11,
     "metadata": {},
     "output_type": "execute_result"
    }
   ],
   "source": [
    "# checking for duplicate values\n",
    "df.duplicated().sum()"
   ]
  },
  {
   "cell_type": "code",
   "execution_count": 12,
   "id": "94344edb",
   "metadata": {
    "execution": {
     "iopub.execute_input": "2024-07-09T02:06:36.712425Z",
     "iopub.status.busy": "2024-07-09T02:06:36.712036Z",
     "iopub.status.idle": "2024-07-09T02:06:36.736980Z",
     "shell.execute_reply": "2024-07-09T02:06:36.735705Z"
    },
    "papermill": {
     "duration": 0.049525,
     "end_time": "2024-07-09T02:06:36.739758",
     "exception": false,
     "start_time": "2024-07-09T02:06:36.690233",
     "status": "completed"
    },
    "tags": []
   },
   "outputs": [
    {
     "data": {
      "text/html": [
       "<div>\n",
       "<style scoped>\n",
       "    .dataframe tbody tr th:only-of-type {\n",
       "        vertical-align: middle;\n",
       "    }\n",
       "\n",
       "    .dataframe tbody tr th {\n",
       "        vertical-align: top;\n",
       "    }\n",
       "\n",
       "    .dataframe thead th {\n",
       "        text-align: right;\n",
       "    }\n",
       "</style>\n",
       "<table border=\"1\" class=\"dataframe\">\n",
       "  <thead>\n",
       "    <tr style=\"text-align: right;\">\n",
       "      <th></th>\n",
       "      <th>pickup_datetime</th>\n",
       "      <th>pickup_longitude</th>\n",
       "      <th>pickup_latitude</th>\n",
       "      <th>dropoff_longitude</th>\n",
       "      <th>dropoff_latitude</th>\n",
       "      <th>passenger_count</th>\n",
       "      <th>fare_amount</th>\n",
       "    </tr>\n",
       "  </thead>\n",
       "  <tbody>\n",
       "    <tr>\n",
       "      <th>0</th>\n",
       "      <td>2015-05-07 19:52:06 UTC</td>\n",
       "      <td>-73.999817</td>\n",
       "      <td>40.738354</td>\n",
       "      <td>-73.999512</td>\n",
       "      <td>40.723217</td>\n",
       "      <td>1</td>\n",
       "      <td>7.5</td>\n",
       "    </tr>\n",
       "    <tr>\n",
       "      <th>1</th>\n",
       "      <td>2009-07-17 20:04:56 UTC</td>\n",
       "      <td>-73.994355</td>\n",
       "      <td>40.728225</td>\n",
       "      <td>-73.994710</td>\n",
       "      <td>40.750325</td>\n",
       "      <td>1</td>\n",
       "      <td>7.7</td>\n",
       "    </tr>\n",
       "    <tr>\n",
       "      <th>2</th>\n",
       "      <td>2009-08-24 21:45:00 UTC</td>\n",
       "      <td>-74.005043</td>\n",
       "      <td>40.740770</td>\n",
       "      <td>-73.962565</td>\n",
       "      <td>40.772647</td>\n",
       "      <td>1</td>\n",
       "      <td>12.9</td>\n",
       "    </tr>\n",
       "    <tr>\n",
       "      <th>3</th>\n",
       "      <td>2009-06-26 08:22:21 UTC</td>\n",
       "      <td>-73.976124</td>\n",
       "      <td>40.790844</td>\n",
       "      <td>-73.965316</td>\n",
       "      <td>40.803349</td>\n",
       "      <td>3</td>\n",
       "      <td>5.3</td>\n",
       "    </tr>\n",
       "    <tr>\n",
       "      <th>4</th>\n",
       "      <td>2014-08-28 17:47:00 UTC</td>\n",
       "      <td>-73.925023</td>\n",
       "      <td>40.744085</td>\n",
       "      <td>-73.973082</td>\n",
       "      <td>40.761247</td>\n",
       "      <td>5</td>\n",
       "      <td>16.0</td>\n",
       "    </tr>\n",
       "  </tbody>\n",
       "</table>\n",
       "</div>"
      ],
      "text/plain": [
       "           pickup_datetime  pickup_longitude  pickup_latitude  \\\n",
       "0  2015-05-07 19:52:06 UTC        -73.999817        40.738354   \n",
       "1  2009-07-17 20:04:56 UTC        -73.994355        40.728225   \n",
       "2  2009-08-24 21:45:00 UTC        -74.005043        40.740770   \n",
       "3  2009-06-26 08:22:21 UTC        -73.976124        40.790844   \n",
       "4  2014-08-28 17:47:00 UTC        -73.925023        40.744085   \n",
       "\n",
       "   dropoff_longitude  dropoff_latitude  passenger_count  fare_amount  \n",
       "0         -73.999512         40.723217                1          7.5  \n",
       "1         -73.994710         40.750325                1          7.7  \n",
       "2         -73.962565         40.772647                1         12.9  \n",
       "3         -73.965316         40.803349                3          5.3  \n",
       "4         -73.973082         40.761247                5         16.0  "
      ]
     },
     "execution_count": 12,
     "metadata": {},
     "output_type": "execute_result"
    }
   ],
   "source": [
    "# selecting columns\n",
    "df = df[['pickup_datetime', 'pickup_longitude', 'pickup_latitude', 'dropoff_longitude', 'dropoff_latitude', 'passenger_count', 'fare_amount']]\n",
    "df.head()"
   ]
  },
  {
   "cell_type": "markdown",
   "id": "a759506c",
   "metadata": {
    "papermill": {
     "duration": 0.020318,
     "end_time": "2024-07-09T02:06:36.780778",
     "exception": false,
     "start_time": "2024-07-09T02:06:36.760460",
     "status": "completed"
    },
    "tags": []
   },
   "source": [
    "- Parsing **`DateTime`**"
   ]
  },
  {
   "cell_type": "code",
   "execution_count": 13,
   "id": "fafe7d2c",
   "metadata": {
    "execution": {
     "iopub.execute_input": "2024-07-09T02:06:36.824084Z",
     "iopub.status.busy": "2024-07-09T02:06:36.823712Z",
     "iopub.status.idle": "2024-07-09T02:06:39.562812Z",
     "shell.execute_reply": "2024-07-09T02:06:39.561695Z"
    },
    "papermill": {
     "duration": 2.763661,
     "end_time": "2024-07-09T02:06:39.565158",
     "exception": false,
     "start_time": "2024-07-09T02:06:36.801497",
     "status": "completed"
    },
    "tags": []
   },
   "outputs": [
    {
     "data": {
      "text/html": [
       "<div>\n",
       "<style scoped>\n",
       "    .dataframe tbody tr th:only-of-type {\n",
       "        vertical-align: middle;\n",
       "    }\n",
       "\n",
       "    .dataframe tbody tr th {\n",
       "        vertical-align: top;\n",
       "    }\n",
       "\n",
       "    .dataframe thead th {\n",
       "        text-align: right;\n",
       "    }\n",
       "</style>\n",
       "<table border=\"1\" class=\"dataframe\">\n",
       "  <thead>\n",
       "    <tr style=\"text-align: right;\">\n",
       "      <th></th>\n",
       "      <th>pickup_datetime</th>\n",
       "      <th>pickup_longitude</th>\n",
       "      <th>pickup_latitude</th>\n",
       "      <th>dropoff_longitude</th>\n",
       "      <th>dropoff_latitude</th>\n",
       "      <th>passenger_count</th>\n",
       "      <th>fare_amount</th>\n",
       "      <th>datetime</th>\n",
       "      <th>weekday</th>\n",
       "      <th>date</th>\n",
       "      <th>month</th>\n",
       "      <th>year</th>\n",
       "      <th>hour</th>\n",
       "    </tr>\n",
       "  </thead>\n",
       "  <tbody>\n",
       "    <tr>\n",
       "      <th>0</th>\n",
       "      <td>2015-05-07 19:52:06 UTC</td>\n",
       "      <td>-73.999817</td>\n",
       "      <td>40.738354</td>\n",
       "      <td>-73.999512</td>\n",
       "      <td>40.723217</td>\n",
       "      <td>1</td>\n",
       "      <td>7.5</td>\n",
       "      <td>2015-05-07 19:52:06+00:00</td>\n",
       "      <td>3</td>\n",
       "      <td>7</td>\n",
       "      <td>5</td>\n",
       "      <td>2015</td>\n",
       "      <td>19</td>\n",
       "    </tr>\n",
       "    <tr>\n",
       "      <th>1</th>\n",
       "      <td>2009-07-17 20:04:56 UTC</td>\n",
       "      <td>-73.994355</td>\n",
       "      <td>40.728225</td>\n",
       "      <td>-73.994710</td>\n",
       "      <td>40.750325</td>\n",
       "      <td>1</td>\n",
       "      <td>7.7</td>\n",
       "      <td>2009-07-17 20:04:56+00:00</td>\n",
       "      <td>4</td>\n",
       "      <td>17</td>\n",
       "      <td>7</td>\n",
       "      <td>2009</td>\n",
       "      <td>20</td>\n",
       "    </tr>\n",
       "    <tr>\n",
       "      <th>2</th>\n",
       "      <td>2009-08-24 21:45:00 UTC</td>\n",
       "      <td>-74.005043</td>\n",
       "      <td>40.740770</td>\n",
       "      <td>-73.962565</td>\n",
       "      <td>40.772647</td>\n",
       "      <td>1</td>\n",
       "      <td>12.9</td>\n",
       "      <td>2009-08-24 21:45:00+00:00</td>\n",
       "      <td>0</td>\n",
       "      <td>24</td>\n",
       "      <td>8</td>\n",
       "      <td>2009</td>\n",
       "      <td>21</td>\n",
       "    </tr>\n",
       "    <tr>\n",
       "      <th>3</th>\n",
       "      <td>2009-06-26 08:22:21 UTC</td>\n",
       "      <td>-73.976124</td>\n",
       "      <td>40.790844</td>\n",
       "      <td>-73.965316</td>\n",
       "      <td>40.803349</td>\n",
       "      <td>3</td>\n",
       "      <td>5.3</td>\n",
       "      <td>2009-06-26 08:22:21+00:00</td>\n",
       "      <td>4</td>\n",
       "      <td>26</td>\n",
       "      <td>6</td>\n",
       "      <td>2009</td>\n",
       "      <td>8</td>\n",
       "    </tr>\n",
       "    <tr>\n",
       "      <th>4</th>\n",
       "      <td>2014-08-28 17:47:00 UTC</td>\n",
       "      <td>-73.925023</td>\n",
       "      <td>40.744085</td>\n",
       "      <td>-73.973082</td>\n",
       "      <td>40.761247</td>\n",
       "      <td>5</td>\n",
       "      <td>16.0</td>\n",
       "      <td>2014-08-28 17:47:00+00:00</td>\n",
       "      <td>3</td>\n",
       "      <td>28</td>\n",
       "      <td>8</td>\n",
       "      <td>2014</td>\n",
       "      <td>17</td>\n",
       "    </tr>\n",
       "  </tbody>\n",
       "</table>\n",
       "</div>"
      ],
      "text/plain": [
       "           pickup_datetime  pickup_longitude  pickup_latitude  \\\n",
       "0  2015-05-07 19:52:06 UTC        -73.999817        40.738354   \n",
       "1  2009-07-17 20:04:56 UTC        -73.994355        40.728225   \n",
       "2  2009-08-24 21:45:00 UTC        -74.005043        40.740770   \n",
       "3  2009-06-26 08:22:21 UTC        -73.976124        40.790844   \n",
       "4  2014-08-28 17:47:00 UTC        -73.925023        40.744085   \n",
       "\n",
       "   dropoff_longitude  dropoff_latitude  passenger_count  fare_amount  \\\n",
       "0         -73.999512         40.723217                1          7.5   \n",
       "1         -73.994710         40.750325                1          7.7   \n",
       "2         -73.962565         40.772647                1         12.9   \n",
       "3         -73.965316         40.803349                3          5.3   \n",
       "4         -73.973082         40.761247                5         16.0   \n",
       "\n",
       "                   datetime  weekday  date  month  year  hour  \n",
       "0 2015-05-07 19:52:06+00:00        3     7      5  2015    19  \n",
       "1 2009-07-17 20:04:56+00:00        4    17      7  2009    20  \n",
       "2 2009-08-24 21:45:00+00:00        0    24      8  2009    21  \n",
       "3 2009-06-26 08:22:21+00:00        4    26      6  2009     8  \n",
       "4 2014-08-28 17:47:00+00:00        3    28      8  2014    17  "
      ]
     },
     "execution_count": 13,
     "metadata": {},
     "output_type": "execute_result"
    }
   ],
   "source": [
    "# convert the 'datetime' column to pandas datetime\n",
    "df['datetime'] = pd.to_datetime(df['pickup_datetime'], utc=True)\n",
    "\n",
    "# extract the components\n",
    "df['weekday'] = df['datetime'].dt.weekday\n",
    "df['date'] = df['datetime'].dt.day\n",
    "df['month'] = df['datetime'].dt.month\n",
    "df['year'] = df['datetime'].dt.year\n",
    "df['hour'] = df['datetime'].dt.hour\n",
    "\n",
    "# display the result\n",
    "df.head()"
   ]
  },
  {
   "cell_type": "markdown",
   "id": "763e02a1",
   "metadata": {
    "papermill": {
     "duration": 0.025547,
     "end_time": "2024-07-09T02:06:39.611755",
     "exception": false,
     "start_time": "2024-07-09T02:06:39.586208",
     "status": "completed"
    },
    "tags": []
   },
   "source": [
    "- Rearranging columns"
   ]
  },
  {
   "cell_type": "code",
   "execution_count": 14,
   "id": "fee00224",
   "metadata": {
    "execution": {
     "iopub.execute_input": "2024-07-09T02:06:39.655646Z",
     "iopub.status.busy": "2024-07-09T02:06:39.655175Z",
     "iopub.status.idle": "2024-07-09T02:06:39.683202Z",
     "shell.execute_reply": "2024-07-09T02:06:39.682101Z"
    },
    "papermill": {
     "duration": 0.052795,
     "end_time": "2024-07-09T02:06:39.685691",
     "exception": false,
     "start_time": "2024-07-09T02:06:39.632896",
     "status": "completed"
    },
    "tags": []
   },
   "outputs": [
    {
     "data": {
      "text/html": [
       "<div>\n",
       "<style scoped>\n",
       "    .dataframe tbody tr th:only-of-type {\n",
       "        vertical-align: middle;\n",
       "    }\n",
       "\n",
       "    .dataframe tbody tr th {\n",
       "        vertical-align: top;\n",
       "    }\n",
       "\n",
       "    .dataframe thead th {\n",
       "        text-align: right;\n",
       "    }\n",
       "</style>\n",
       "<table border=\"1\" class=\"dataframe\">\n",
       "  <thead>\n",
       "    <tr style=\"text-align: right;\">\n",
       "      <th></th>\n",
       "      <th>hour</th>\n",
       "      <th>weekday</th>\n",
       "      <th>date</th>\n",
       "      <th>month</th>\n",
       "      <th>year</th>\n",
       "      <th>pickup_longitude</th>\n",
       "      <th>pickup_latitude</th>\n",
       "      <th>dropoff_longitude</th>\n",
       "      <th>dropoff_latitude</th>\n",
       "      <th>passenger_count</th>\n",
       "      <th>fare_amount</th>\n",
       "    </tr>\n",
       "  </thead>\n",
       "  <tbody>\n",
       "    <tr>\n",
       "      <th>0</th>\n",
       "      <td>19</td>\n",
       "      <td>3</td>\n",
       "      <td>7</td>\n",
       "      <td>5</td>\n",
       "      <td>2015</td>\n",
       "      <td>-73.999817</td>\n",
       "      <td>40.738354</td>\n",
       "      <td>-73.999512</td>\n",
       "      <td>40.723217</td>\n",
       "      <td>1</td>\n",
       "      <td>7.5</td>\n",
       "    </tr>\n",
       "    <tr>\n",
       "      <th>1</th>\n",
       "      <td>20</td>\n",
       "      <td>4</td>\n",
       "      <td>17</td>\n",
       "      <td>7</td>\n",
       "      <td>2009</td>\n",
       "      <td>-73.994355</td>\n",
       "      <td>40.728225</td>\n",
       "      <td>-73.994710</td>\n",
       "      <td>40.750325</td>\n",
       "      <td>1</td>\n",
       "      <td>7.7</td>\n",
       "    </tr>\n",
       "    <tr>\n",
       "      <th>2</th>\n",
       "      <td>21</td>\n",
       "      <td>0</td>\n",
       "      <td>24</td>\n",
       "      <td>8</td>\n",
       "      <td>2009</td>\n",
       "      <td>-74.005043</td>\n",
       "      <td>40.740770</td>\n",
       "      <td>-73.962565</td>\n",
       "      <td>40.772647</td>\n",
       "      <td>1</td>\n",
       "      <td>12.9</td>\n",
       "    </tr>\n",
       "    <tr>\n",
       "      <th>3</th>\n",
       "      <td>8</td>\n",
       "      <td>4</td>\n",
       "      <td>26</td>\n",
       "      <td>6</td>\n",
       "      <td>2009</td>\n",
       "      <td>-73.976124</td>\n",
       "      <td>40.790844</td>\n",
       "      <td>-73.965316</td>\n",
       "      <td>40.803349</td>\n",
       "      <td>3</td>\n",
       "      <td>5.3</td>\n",
       "    </tr>\n",
       "    <tr>\n",
       "      <th>4</th>\n",
       "      <td>17</td>\n",
       "      <td>3</td>\n",
       "      <td>28</td>\n",
       "      <td>8</td>\n",
       "      <td>2014</td>\n",
       "      <td>-73.925023</td>\n",
       "      <td>40.744085</td>\n",
       "      <td>-73.973082</td>\n",
       "      <td>40.761247</td>\n",
       "      <td>5</td>\n",
       "      <td>16.0</td>\n",
       "    </tr>\n",
       "  </tbody>\n",
       "</table>\n",
       "</div>"
      ],
      "text/plain": [
       "   hour  weekday  date  month  year  pickup_longitude  pickup_latitude  \\\n",
       "0    19        3     7      5  2015        -73.999817        40.738354   \n",
       "1    20        4    17      7  2009        -73.994355        40.728225   \n",
       "2    21        0    24      8  2009        -74.005043        40.740770   \n",
       "3     8        4    26      6  2009        -73.976124        40.790844   \n",
       "4    17        3    28      8  2014        -73.925023        40.744085   \n",
       "\n",
       "   dropoff_longitude  dropoff_latitude  passenger_count  fare_amount  \n",
       "0         -73.999512         40.723217                1          7.5  \n",
       "1         -73.994710         40.750325                1          7.7  \n",
       "2         -73.962565         40.772647                1         12.9  \n",
       "3         -73.965316         40.803349                3          5.3  \n",
       "4         -73.973082         40.761247                5         16.0  "
      ]
     },
     "execution_count": 14,
     "metadata": {},
     "output_type": "execute_result"
    }
   ],
   "source": [
    "# selecting columns\n",
    "df = df[['hour', 'weekday', 'date', 'month', 'year', 'pickup_longitude', 'pickup_latitude', 'dropoff_longitude', 'dropoff_latitude', 'passenger_count', 'fare_amount']]\n",
    "df.head()"
   ]
  },
  {
   "cell_type": "code",
   "execution_count": 15,
   "id": "3112c071",
   "metadata": {
    "execution": {
     "iopub.execute_input": "2024-07-09T02:06:39.771192Z",
     "iopub.status.busy": "2024-07-09T02:06:39.770799Z",
     "iopub.status.idle": "2024-07-09T02:06:41.524353Z",
     "shell.execute_reply": "2024-07-09T02:06:41.523285Z"
    },
    "papermill": {
     "duration": 1.778075,
     "end_time": "2024-07-09T02:06:41.526764",
     "exception": false,
     "start_time": "2024-07-09T02:06:39.748689",
     "status": "completed"
    },
    "tags": []
   },
   "outputs": [
    {
     "data": {
      "image/png": "[encoded data removed]",
      "text/plain": [
       "<Figure size 500x400 with 1 Axes>"
      ]
     },
     "metadata": {},
     "output_type": "display_data"
    }
   ],
   "source": [
    "#checking for outliers\n",
    "import matplotlib.pyplot as plt\n",
    "import seaborn as sns\n",
    "\n",
    "plt.figure(figsize=(5,4))\n",
    "sns.boxplot(data= df['fare_amount'])\n",
    "plt.xlabel('Fare Amount')\n",
    "plt.ylabel('Fare')\n",
    "plt.title('Detecting Outliers in Fare Amount')\n",
    "plt.show()"
   ]
  },
  {
   "cell_type": "markdown",
   "id": "12ff9953",
   "metadata": {
    "papermill": {
     "duration": 0.02123,
     "end_time": "2024-07-09T02:06:41.569402",
     "exception": false,
     "start_time": "2024-07-09T02:06:41.548172",
     "status": "completed"
    },
    "tags": []
   },
   "source": [
    "We can see that there are values even below 0, we will remove them first."
   ]
  },
  {
   "cell_type": "code",
   "execution_count": 16,
   "id": "ebd447f2",
   "metadata": {
    "execution": {
     "iopub.execute_input": "2024-07-09T02:06:41.615710Z",
     "iopub.status.busy": "2024-07-09T02:06:41.614886Z",
     "iopub.status.idle": "2024-07-09T02:06:41.666531Z",
     "shell.execute_reply": "2024-07-09T02:06:41.665465Z"
    },
    "papermill": {
     "duration": 0.078451,
     "end_time": "2024-07-09T02:06:41.669308",
     "exception": false,
     "start_time": "2024-07-09T02:06:41.590857",
     "status": "completed"
    },
    "tags": []
   },
   "outputs": [
    {
     "data": {
      "text/html": [
       "<div>\n",
       "<style scoped>\n",
       "    .dataframe tbody tr th:only-of-type {\n",
       "        vertical-align: middle;\n",
       "    }\n",
       "\n",
       "    .dataframe tbody tr th {\n",
       "        vertical-align: top;\n",
       "    }\n",
       "\n",
       "    .dataframe thead th {\n",
       "        text-align: right;\n",
       "    }\n",
       "</style>\n",
       "<table border=\"1\" class=\"dataframe\">\n",
       "  <thead>\n",
       "    <tr style=\"text-align: right;\">\n",
       "      <th></th>\n",
       "      <th>hour</th>\n",
       "      <th>weekday</th>\n",
       "      <th>date</th>\n",
       "      <th>month</th>\n",
       "      <th>year</th>\n",
       "      <th>pickup_longitude</th>\n",
       "      <th>pickup_latitude</th>\n",
       "      <th>dropoff_longitude</th>\n",
       "      <th>dropoff_latitude</th>\n",
       "      <th>passenger_count</th>\n",
       "      <th>fare_amount</th>\n",
       "    </tr>\n",
       "  </thead>\n",
       "  <tbody>\n",
       "    <tr>\n",
       "      <th>0</th>\n",
       "      <td>19</td>\n",
       "      <td>3</td>\n",
       "      <td>7</td>\n",
       "      <td>5</td>\n",
       "      <td>2015</td>\n",
       "      <td>-73.999817</td>\n",
       "      <td>40.738354</td>\n",
       "      <td>-73.999512</td>\n",
       "      <td>40.723217</td>\n",
       "      <td>1</td>\n",
       "      <td>7.5</td>\n",
       "    </tr>\n",
       "    <tr>\n",
       "      <th>1</th>\n",
       "      <td>20</td>\n",
       "      <td>4</td>\n",
       "      <td>17</td>\n",
       "      <td>7</td>\n",
       "      <td>2009</td>\n",
       "      <td>-73.994355</td>\n",
       "      <td>40.728225</td>\n",
       "      <td>-73.994710</td>\n",
       "      <td>40.750325</td>\n",
       "      <td>1</td>\n",
       "      <td>7.7</td>\n",
       "    </tr>\n",
       "    <tr>\n",
       "      <th>2</th>\n",
       "      <td>21</td>\n",
       "      <td>0</td>\n",
       "      <td>24</td>\n",
       "      <td>8</td>\n",
       "      <td>2009</td>\n",
       "      <td>-74.005043</td>\n",
       "      <td>40.740770</td>\n",
       "      <td>-73.962565</td>\n",
       "      <td>40.772647</td>\n",
       "      <td>1</td>\n",
       "      <td>12.9</td>\n",
       "    </tr>\n",
       "    <tr>\n",
       "      <th>3</th>\n",
       "      <td>8</td>\n",
       "      <td>4</td>\n",
       "      <td>26</td>\n",
       "      <td>6</td>\n",
       "      <td>2009</td>\n",
       "      <td>-73.976124</td>\n",
       "      <td>40.790844</td>\n",
       "      <td>-73.965316</td>\n",
       "      <td>40.803349</td>\n",
       "      <td>3</td>\n",
       "      <td>5.3</td>\n",
       "    </tr>\n",
       "    <tr>\n",
       "      <th>4</th>\n",
       "      <td>17</td>\n",
       "      <td>3</td>\n",
       "      <td>28</td>\n",
       "      <td>8</td>\n",
       "      <td>2014</td>\n",
       "      <td>-73.925023</td>\n",
       "      <td>40.744085</td>\n",
       "      <td>-73.973082</td>\n",
       "      <td>40.761247</td>\n",
       "      <td>5</td>\n",
       "      <td>16.0</td>\n",
       "    </tr>\n",
       "  </tbody>\n",
       "</table>\n",
       "</div>"
      ],
      "text/plain": [
       "   hour  weekday  date  month  year  pickup_longitude  pickup_latitude  \\\n",
       "0    19        3     7      5  2015        -73.999817        40.738354   \n",
       "1    20        4    17      7  2009        -73.994355        40.728225   \n",
       "2    21        0    24      8  2009        -74.005043        40.740770   \n",
       "3     8        4    26      6  2009        -73.976124        40.790844   \n",
       "4    17        3    28      8  2014        -73.925023        40.744085   \n",
       "\n",
       "   dropoff_longitude  dropoff_latitude  passenger_count  fare_amount  \n",
       "0         -73.999512         40.723217                1          7.5  \n",
       "1         -73.994710         40.750325                1          7.7  \n",
       "2         -73.962565         40.772647                1         12.9  \n",
       "3         -73.965316         40.803349                3          5.3  \n",
       "4         -73.973082         40.761247                5         16.0  "
      ]
     },
     "execution_count": 16,
     "metadata": {},
     "output_type": "execute_result"
    }
   ],
   "source": [
    "df = df[df['fare_amount']>0]\n",
    "df = df.reset_index(drop=True)\n",
    "\n",
    "df.head()"
   ]
  },
  {
   "cell_type": "markdown",
   "id": "0460935f",
   "metadata": {
    "papermill": {
     "duration": 0.021501,
     "end_time": "2024-07-09T02:06:41.713995",
     "exception": false,
     "start_time": "2024-07-09T02:06:41.692494",
     "status": "completed"
    },
    "tags": []
   },
   "source": [
    "Now, we remove the outliers with the **`inter-quartile range`** substitution method."
   ]
  },
  {
   "cell_type": "code",
   "execution_count": 17,
   "id": "cb2b0376",
   "metadata": {
    "execution": {
     "iopub.execute_input": "2024-07-09T02:06:41.759702Z",
     "iopub.status.busy": "2024-07-09T02:06:41.759301Z",
     "iopub.status.idle": "2024-07-09T02:06:41.766705Z",
     "shell.execute_reply": "2024-07-09T02:06:41.765492Z"
    },
    "papermill": {
     "duration": 0.03317,
     "end_time": "2024-07-09T02:06:41.769019",
     "exception": false,
     "start_time": "2024-07-09T02:06:41.735849",
     "status": "completed"
    },
    "tags": []
   },
   "outputs": [],
   "source": [
    "# function to remove outliers using the IQR method\n",
    "def remove_outliers(df, columns):\n",
    "    \n",
    "    # looping through each column\n",
    "    for col in columns:\n",
    "        feature = df[col]\n",
    "        q1 = feature.quantile(0.25)\n",
    "        q3 = feature.quantile(0.75)\n",
    "        IQR = q3 - q1\n",
    "        lower_bound = float(q1 - 1.5 * IQR)  # Cast to float\n",
    "        upper_bound = float(q3 + 1.5 * IQR)  # Cast to float\n",
    "\n",
    "        # replacing outliers with bounds\n",
    "        df[col] = np.where(df[col] < lower_bound, lower_bound, df[col])\n",
    "        df[col] = np.where(df[col] > upper_bound, upper_bound, df[col])\n",
    "\n",
    "    return df"
   ]
  },
  {
   "cell_type": "code",
   "execution_count": 18,
   "id": "a0988db9",
   "metadata": {
    "execution": {
     "iopub.execute_input": "2024-07-09T02:06:41.814559Z",
     "iopub.status.busy": "2024-07-09T02:06:41.814143Z",
     "iopub.status.idle": "2024-07-09T02:06:41.979845Z",
     "shell.execute_reply": "2024-07-09T02:06:41.978720Z"
    },
    "papermill": {
     "duration": 0.191464,
     "end_time": "2024-07-09T02:06:41.982306",
     "exception": false,
     "start_time": "2024-07-09T02:06:41.790842",
     "status": "completed"
    },
    "tags": []
   },
   "outputs": [
    {
     "data": {
      "image/png": "[encoded data removed]",
      "text/plain": [
       "<Figure size 500x400 with 1 Axes>"
      ]
     },
     "metadata": {},
     "output_type": "display_data"
    }
   ],
   "source": [
    "# remove outliers\n",
    "df = remove_outliers(df, ['fare_amount'])\n",
    "\n",
    "# plotting the boxplot for cleaned data\n",
    "plt.figure(figsize=(5, 4))\n",
    "sns.boxplot(data=df['fare_amount'])\n",
    "plt.xlabel('Fare Amount')\n",
    "plt.ylabel('Fare')\n",
    "plt.title('Fare Amount after removal of Outliers')\n",
    "plt.show()"
   ]
  },
  {
   "cell_type": "code",
   "execution_count": 19,
   "id": "a7950091",
   "metadata": {
    "execution": {
     "iopub.execute_input": "2024-07-09T02:06:42.074827Z",
     "iopub.status.busy": "2024-07-09T02:06:42.074406Z",
     "iopub.status.idle": "2024-07-09T02:06:43.003907Z",
     "shell.execute_reply": "2024-07-09T02:06:43.002635Z"
    },
    "papermill": {
     "duration": 0.956413,
     "end_time": "2024-07-09T02:06:43.006297",
     "exception": false,
     "start_time": "2024-07-09T02:06:42.049884",
     "status": "completed"
    },
    "tags": []
   },
   "outputs": [
    {
     "data": {
      "image/png": "[encoded data removed]",
      "text/plain": [
       "<Figure size 2000x2000 with 4 Axes>"
      ]
     },
     "metadata": {},
     "output_type": "display_data"
    }
   ],
   "source": [
    "# outliers detection using boxplot\n",
    "plt.figure(figsize =(20, 20))\n",
    "\n",
    "for i , variable in enumerate(['pickup_longitude', 'pickup_latitude', 'dropoff_longitude', 'dropoff_latitude']):\n",
    "    plt.subplot(6 , 5, i +1)\n",
    "    plt.boxplot(df[variable], whis=1.5)\n",
    "    plt.tight_layout()\n",
    "    plt.title(variable)\n",
    "    \n",
    "plt.show()"
   ]
  },
  {
   "cell_type": "markdown",
   "id": "66e9edd7",
   "metadata": {
    "papermill": {
     "duration": 0.023486,
     "end_time": "2024-07-09T02:06:43.053682",
     "exception": false,
     "start_time": "2024-07-09T02:06:43.030196",
     "status": "completed"
    },
    "tags": []
   },
   "source": [
    "Clearly the coordinates are outside of possible range, so we remove the ones that are out of possible range!"
   ]
  },
  {
   "cell_type": "code",
   "execution_count": 20,
   "id": "97a772ab",
   "metadata": {
    "execution": {
     "iopub.execute_input": "2024-07-09T02:06:43.151209Z",
     "iopub.status.busy": "2024-07-09T02:06:43.150353Z",
     "iopub.status.idle": "2024-07-09T02:06:43.180051Z",
     "shell.execute_reply": "2024-07-09T02:06:43.178502Z"
    },
    "papermill": {
     "duration": 0.058804,
     "end_time": "2024-07-09T02:06:43.182836",
     "exception": false,
     "start_time": "2024-07-09T02:06:43.124032",
     "status": "completed"
    },
    "tags": []
   },
   "outputs": [
    {
     "data": {
      "text/html": [
       "<div>\n",
       "<style scoped>\n",
       "    .dataframe tbody tr th:only-of-type {\n",
       "        vertical-align: middle;\n",
       "    }\n",
       "\n",
       "    .dataframe tbody tr th {\n",
       "        vertical-align: top;\n",
       "    }\n",
       "\n",
       "    .dataframe thead th {\n",
       "        text-align: right;\n",
       "    }\n",
       "</style>\n",
       "<table border=\"1\" class=\"dataframe\">\n",
       "  <thead>\n",
       "    <tr style=\"text-align: right;\">\n",
       "      <th></th>\n",
       "      <th>hour</th>\n",
       "      <th>weekday</th>\n",
       "      <th>date</th>\n",
       "      <th>month</th>\n",
       "      <th>year</th>\n",
       "      <th>pickup_longitude</th>\n",
       "      <th>pickup_latitude</th>\n",
       "      <th>dropoff_longitude</th>\n",
       "      <th>dropoff_latitude</th>\n",
       "      <th>passenger_count</th>\n",
       "      <th>fare_amount</th>\n",
       "    </tr>\n",
       "  </thead>\n",
       "  <tbody>\n",
       "    <tr>\n",
       "      <th>0</th>\n",
       "      <td>19</td>\n",
       "      <td>3</td>\n",
       "      <td>7</td>\n",
       "      <td>5</td>\n",
       "      <td>2015</td>\n",
       "      <td>-73.999817</td>\n",
       "      <td>40.738354</td>\n",
       "      <td>-73.999512</td>\n",
       "      <td>40.723217</td>\n",
       "      <td>1</td>\n",
       "      <td>7.5</td>\n",
       "    </tr>\n",
       "    <tr>\n",
       "      <th>1</th>\n",
       "      <td>20</td>\n",
       "      <td>4</td>\n",
       "      <td>17</td>\n",
       "      <td>7</td>\n",
       "      <td>2009</td>\n",
       "      <td>-73.994355</td>\n",
       "      <td>40.728225</td>\n",
       "      <td>-73.994710</td>\n",
       "      <td>40.750325</td>\n",
       "      <td>1</td>\n",
       "      <td>7.7</td>\n",
       "    </tr>\n",
       "    <tr>\n",
       "      <th>2</th>\n",
       "      <td>21</td>\n",
       "      <td>0</td>\n",
       "      <td>24</td>\n",
       "      <td>8</td>\n",
       "      <td>2009</td>\n",
       "      <td>-74.005043</td>\n",
       "      <td>40.740770</td>\n",
       "      <td>-73.962565</td>\n",
       "      <td>40.772647</td>\n",
       "      <td>1</td>\n",
       "      <td>12.9</td>\n",
       "    </tr>\n",
       "    <tr>\n",
       "      <th>3</th>\n",
       "      <td>8</td>\n",
       "      <td>4</td>\n",
       "      <td>26</td>\n",
       "      <td>6</td>\n",
       "      <td>2009</td>\n",
       "      <td>-73.976124</td>\n",
       "      <td>40.790844</td>\n",
       "      <td>-73.965316</td>\n",
       "      <td>40.803349</td>\n",
       "      <td>3</td>\n",
       "      <td>5.3</td>\n",
       "    </tr>\n",
       "    <tr>\n",
       "      <th>4</th>\n",
       "      <td>17</td>\n",
       "      <td>3</td>\n",
       "      <td>28</td>\n",
       "      <td>8</td>\n",
       "      <td>2014</td>\n",
       "      <td>-73.925023</td>\n",
       "      <td>40.744085</td>\n",
       "      <td>-73.973082</td>\n",
       "      <td>40.761247</td>\n",
       "      <td>5</td>\n",
       "      <td>16.0</td>\n",
       "    </tr>\n",
       "  </tbody>\n",
       "</table>\n",
       "</div>"
      ],
      "text/plain": [
       "   hour  weekday  date  month  year  pickup_longitude  pickup_latitude  \\\n",
       "0    19        3     7      5  2015        -73.999817        40.738354   \n",
       "1    20        4    17      7  2009        -73.994355        40.728225   \n",
       "2    21        0    24      8  2009        -74.005043        40.740770   \n",
       "3     8        4    26      6  2009        -73.976124        40.790844   \n",
       "4    17        3    28      8  2014        -73.925023        40.744085   \n",
       "\n",
       "   dropoff_longitude  dropoff_latitude  passenger_count  fare_amount  \n",
       "0         -73.999512         40.723217                1          7.5  \n",
       "1         -73.994710         40.750325                1          7.7  \n",
       "2         -73.962565         40.772647                1         12.9  \n",
       "3         -73.965316         40.803349                3          5.3  \n",
       "4         -73.973082         40.761247                5         16.0  "
      ]
     },
     "execution_count": 20,
     "metadata": {},
     "output_type": "execute_result"
    }
   ],
   "source": [
    "# setting possible range for longitudes\n",
    "longitude_up = 180\n",
    "longitude_down = -180\n",
    "\n",
    "# setting possible range for latitudes\n",
    "latitude_up = 90\n",
    "latitude_down = -90\n",
    "\n",
    "# choosing only the ones that fall inside the possible range\n",
    "df = df[(df['pickup_longitude']  >= longitude_down) & \n",
    "        (df['dropoff_longitude'] >= longitude_down) & \n",
    "        (df['pickup_longitude']  <= longitude_up)   &\n",
    "        (df['dropoff_longitude'] <= longitude_up)   &\n",
    "        (df['pickup_latitude']   >= latitude_down)  & \n",
    "        (df['dropoff_latitude']  >= latitude_down)  & \n",
    "        (df['pickup_latitude']   <= latitude_up)    &\n",
    "        (df['dropoff_latitude']  <= latitude_up)]\n",
    "\n",
    "df.head()"
   ]
  },
  {
   "cell_type": "markdown",
   "id": "1561986f",
   "metadata": {
    "papermill": {
     "duration": 0.023087,
     "end_time": "2024-07-09T02:06:43.229425",
     "exception": false,
     "start_time": "2024-07-09T02:06:43.206338",
     "status": "completed"
    },
    "tags": []
   },
   "source": [
    "Now, we can check for **`outliers`**."
   ]
  },
  {
   "cell_type": "markdown",
   "id": "b61c7ee5",
   "metadata": {
    "papermill": {
     "duration": 0.023154,
     "end_time": "2024-07-09T02:06:43.276204",
     "exception": false,
     "start_time": "2024-07-09T02:06:43.253050",
     "status": "completed"
    },
    "tags": []
   },
   "source": [
    "### **🚧 Removing Coordinate Outliers**"
   ]
  },
  {
   "cell_type": "code",
   "execution_count": 21,
   "id": "12086327",
   "metadata": {
    "execution": {
     "iopub.execute_input": "2024-07-09T02:06:43.324840Z",
     "iopub.status.busy": "2024-07-09T02:06:43.324422Z",
     "iopub.status.idle": "2024-07-09T02:06:44.280380Z",
     "shell.execute_reply": "2024-07-09T02:06:44.279111Z"
    },
    "papermill": {
     "duration": 0.983388,
     "end_time": "2024-07-09T02:06:44.282995",
     "exception": false,
     "start_time": "2024-07-09T02:06:43.299607",
     "status": "completed"
    },
    "tags": []
   },
   "outputs": [
    {
     "data": {
      "image/png": "[encoded data removed]",
      "text/plain": [
       "<Figure size 2000x2000 with 4 Axes>"
      ]
     },
     "metadata": {},
     "output_type": "display_data"
    }
   ],
   "source": [
    "# outliers detection using boxplot\n",
    "plt.figure(figsize =(20, 20))\n",
    "\n",
    "for i , variable in enumerate(['pickup_longitude', 'pickup_latitude', 'dropoff_longitude', 'dropoff_latitude']):\n",
    "    plt.subplot(6 , 5, i +1)\n",
    "    plt.boxplot(df[variable], whis=1.5)\n",
    "    plt.tight_layout()\n",
    "    plt.title(variable)\n",
    "    \n",
    "plt.show()"
   ]
  },
  {
   "cell_type": "markdown",
   "id": "bb5dc475",
   "metadata": {
    "papermill": {
     "duration": 0.023506,
     "end_time": "2024-07-09T02:06:44.330175",
     "exception": false,
     "start_time": "2024-07-09T02:06:44.306669",
     "status": "completed"
    },
    "tags": []
   },
   "source": [
    "We can clearly see that there are a huge number of outliers in each column."
   ]
  },
  {
   "cell_type": "code",
   "execution_count": 22,
   "id": "fdbb2594",
   "metadata": {
    "execution": {
     "iopub.execute_input": "2024-07-09T02:06:44.380064Z",
     "iopub.status.busy": "2024-07-09T02:06:44.379660Z",
     "iopub.status.idle": "2024-07-09T02:06:45.304707Z",
     "shell.execute_reply": "2024-07-09T02:06:45.303221Z"
    },
    "papermill": {
     "duration": 0.952971,
     "end_time": "2024-07-09T02:06:45.307586",
     "exception": false,
     "start_time": "2024-07-09T02:06:44.354615",
     "status": "completed"
    },
    "tags": []
   },
   "outputs": [
    {
     "data": {
      "image/png": "[encoded data removed]",
      "text/plain": [
       "<Figure size 2000x2000 with 4 Axes>"
      ]
     },
     "metadata": {},
     "output_type": "display_data"
    }
   ],
   "source": [
    "# remove outliers\n",
    "df = remove_outliers(df, ['pickup_longitude', 'pickup_latitude', 'dropoff_longitude', 'dropoff_latitude'])\n",
    "\n",
    "plt.figure(figsize =(20, 20))\n",
    "\n",
    "for i , variable in enumerate(['pickup_longitude', 'pickup_latitude', 'dropoff_longitude', 'dropoff_latitude']):\n",
    "    plt.subplot(6 , 5, i +1)\n",
    "    plt.boxplot(df[variable], whis=1.5)\n",
    "    plt.tight_layout()\n",
    "    plt.title(variable)\n",
    "    \n",
    "# plot boxplot of cleaned coordinate data \n",
    "plt.show()"
   ]
  },
  {
   "cell_type": "markdown",
   "id": "9336a8b4",
   "metadata": {
    "papermill": {
     "duration": 0.024288,
     "end_time": "2024-07-09T02:06:45.407277",
     "exception": false,
     "start_time": "2024-07-09T02:06:45.382989",
     "status": "completed"
    },
    "tags": []
   },
   "source": [
    "## **⚡ Generating Distance from Coordinate Data**\n",
    "We now use the **`Haversine formula`** to calculate the great-circle distance between two points on the Earth's surface given their longitude and latitude in degrees. This formula is particularly useful for calculating distances over the globe's surface, accounting for its spherical shape."
   ]
  },
  {
   "cell_type": "code",
   "execution_count": 23,
   "id": "7db6ac59",
   "metadata": {
    "execution": {
     "iopub.execute_input": "2024-07-09T02:06:45.458360Z",
     "iopub.status.busy": "2024-07-09T02:06:45.457956Z",
     "iopub.status.idle": "2024-07-09T02:06:45.465810Z",
     "shell.execute_reply": "2024-07-09T02:06:45.464684Z"
    },
    "papermill": {
     "duration": 0.036112,
     "end_time": "2024-07-09T02:06:45.468116",
     "exception": false,
     "start_time": "2024-07-09T02:06:45.432004",
     "status": "completed"
    },
    "tags": []
   },
   "outputs": [],
   "source": [
    "from math import radians, sin, cos, asin, sqrt\n",
    "\n",
    "# function to calculate the travel distance from the longitudes and latitudes\n",
    "def distance_transform(longitude1, latitude1, longitude2, latitude2):\n",
    "    travel_dist = []\n",
    "    \n",
    "    for pos in range(len(longitude1)):\n",
    "        long1,lati1,long2,lati2 = map(radians,[longitude1[pos],latitude1[pos],longitude2[pos],latitude2[pos]])\n",
    "        dist_long = long2 - long1\n",
    "        dist_lati = lati2 - lati1\n",
    "        a = sin(dist_lati/2)**2 + cos(lati1) * cos(lati2) * sin(dist_long/2)**2\n",
    "        c = 2 * asin(sqrt(a))*6371\n",
    "        travel_dist.append(c)\n",
    "       \n",
    "    return travel_dist"
   ]
  },
  {
   "cell_type": "code",
   "execution_count": 24,
   "id": "b25bb53a",
   "metadata": {
    "execution": {
     "iopub.execute_input": "2024-07-09T02:06:45.519284Z",
     "iopub.status.busy": "2024-07-09T02:06:45.518927Z",
     "iopub.status.idle": "2024-07-09T02:06:45.945943Z",
     "shell.execute_reply": "2024-07-09T02:06:45.945007Z"
    },
    "papermill": {
     "duration": 0.455725,
     "end_time": "2024-07-09T02:06:45.948604",
     "exception": false,
     "start_time": "2024-07-09T02:06:45.492879",
     "status": "completed"
    },
    "tags": []
   },
   "outputs": [
    {
     "data": {
      "text/html": [
       "<div>\n",
       "<style scoped>\n",
       "    .dataframe tbody tr th:only-of-type {\n",
       "        vertical-align: middle;\n",
       "    }\n",
       "\n",
       "    .dataframe tbody tr th {\n",
       "        vertical-align: top;\n",
       "    }\n",
       "\n",
       "    .dataframe thead th {\n",
       "        text-align: right;\n",
       "    }\n",
       "</style>\n",
       "<table border=\"1\" class=\"dataframe\">\n",
       "  <thead>\n",
       "    <tr style=\"text-align: right;\">\n",
       "      <th></th>\n",
       "      <th>hour</th>\n",
       "      <th>weekday</th>\n",
       "      <th>date</th>\n",
       "      <th>month</th>\n",
       "      <th>year</th>\n",
       "      <th>pickup_longitude</th>\n",
       "      <th>pickup_latitude</th>\n",
       "      <th>dropoff_longitude</th>\n",
       "      <th>dropoff_latitude</th>\n",
       "      <th>passenger_count</th>\n",
       "      <th>fare_amount</th>\n",
       "      <th>distance</th>\n",
       "    </tr>\n",
       "  </thead>\n",
       "  <tbody>\n",
       "    <tr>\n",
       "      <th>0</th>\n",
       "      <td>19</td>\n",
       "      <td>3</td>\n",
       "      <td>7</td>\n",
       "      <td>5</td>\n",
       "      <td>2015</td>\n",
       "      <td>-73.999817</td>\n",
       "      <td>40.738354</td>\n",
       "      <td>-73.999512</td>\n",
       "      <td>40.723217</td>\n",
       "      <td>1</td>\n",
       "      <td>7.5</td>\n",
       "      <td>1.683323</td>\n",
       "    </tr>\n",
       "    <tr>\n",
       "      <th>1</th>\n",
       "      <td>20</td>\n",
       "      <td>4</td>\n",
       "      <td>17</td>\n",
       "      <td>7</td>\n",
       "      <td>2009</td>\n",
       "      <td>-73.994355</td>\n",
       "      <td>40.728225</td>\n",
       "      <td>-73.994710</td>\n",
       "      <td>40.750325</td>\n",
       "      <td>1</td>\n",
       "      <td>7.7</td>\n",
       "      <td>2.457590</td>\n",
       "    </tr>\n",
       "    <tr>\n",
       "      <th>2</th>\n",
       "      <td>21</td>\n",
       "      <td>0</td>\n",
       "      <td>24</td>\n",
       "      <td>8</td>\n",
       "      <td>2009</td>\n",
       "      <td>-74.005043</td>\n",
       "      <td>40.740770</td>\n",
       "      <td>-73.962565</td>\n",
       "      <td>40.772647</td>\n",
       "      <td>1</td>\n",
       "      <td>12.9</td>\n",
       "      <td>5.036377</td>\n",
       "    </tr>\n",
       "    <tr>\n",
       "      <th>3</th>\n",
       "      <td>8</td>\n",
       "      <td>4</td>\n",
       "      <td>26</td>\n",
       "      <td>6</td>\n",
       "      <td>2009</td>\n",
       "      <td>-73.976124</td>\n",
       "      <td>40.790844</td>\n",
       "      <td>-73.965316</td>\n",
       "      <td>40.803349</td>\n",
       "      <td>3</td>\n",
       "      <td>5.3</td>\n",
       "      <td>1.661683</td>\n",
       "    </tr>\n",
       "    <tr>\n",
       "      <th>4</th>\n",
       "      <td>17</td>\n",
       "      <td>3</td>\n",
       "      <td>28</td>\n",
       "      <td>8</td>\n",
       "      <td>2014</td>\n",
       "      <td>-73.929790</td>\n",
       "      <td>40.744085</td>\n",
       "      <td>-73.973082</td>\n",
       "      <td>40.761247</td>\n",
       "      <td>5</td>\n",
       "      <td>16.0</td>\n",
       "      <td>4.115803</td>\n",
       "    </tr>\n",
       "  </tbody>\n",
       "</table>\n",
       "</div>"
      ],
      "text/plain": [
       "   hour  weekday  date  month  year  pickup_longitude  pickup_latitude  \\\n",
       "0    19        3     7      5  2015        -73.999817        40.738354   \n",
       "1    20        4    17      7  2009        -73.994355        40.728225   \n",
       "2    21        0    24      8  2009        -74.005043        40.740770   \n",
       "3     8        4    26      6  2009        -73.976124        40.790844   \n",
       "4    17        3    28      8  2014        -73.929790        40.744085   \n",
       "\n",
       "   dropoff_longitude  dropoff_latitude  passenger_count  fare_amount  distance  \n",
       "0         -73.999512         40.723217                1          7.5  1.683323  \n",
       "1         -73.994710         40.750325                1          7.7  2.457590  \n",
       "2         -73.962565         40.772647                1         12.9  5.036377  \n",
       "3         -73.965316         40.803349                3          5.3  1.661683  \n",
       "4         -73.973082         40.761247                5         16.0  4.115803  "
      ]
     },
     "execution_count": 24,
     "metadata": {},
     "output_type": "execute_result"
    }
   ],
   "source": [
    "# generating distance\n",
    "df['distance'] = distance_transform(\n",
    "    df['pickup_longitude'].to_numpy(), \n",
    "    df['pickup_latitude'].to_numpy(),\n",
    "    df['dropoff_longitude'].to_numpy(), \n",
    "    df['dropoff_latitude'].to_numpy()\n",
    ")\n",
    "\n",
    "df.head()"
   ]
  },
  {
   "cell_type": "markdown",
   "id": "ad5e92d7",
   "metadata": {
    "papermill": {
     "duration": 0.024494,
     "end_time": "2024-07-09T02:06:45.998148",
     "exception": false,
     "start_time": "2024-07-09T02:06:45.973654",
     "status": "completed"
    },
    "tags": []
   },
   "source": [
    "## ** Cleaning Distance**"
   ]
  },
  {
   "cell_type": "code",
   "execution_count": 25,
   "id": "5f94abec",
   "metadata": {
    "execution": {
     "iopub.execute_input": "2024-07-09T02:06:46.049889Z",
     "iopub.status.busy": "2024-07-09T02:06:46.049081Z",
     "iopub.status.idle": "2024-07-09T02:06:46.293212Z",
     "shell.execute_reply": "2024-07-09T02:06:46.291809Z"
    },
    "papermill": {
     "duration": 0.273118,
     "end_time": "2024-07-09T02:06:46.296002",
     "exception": false,
     "start_time": "2024-07-09T02:06:46.022884",
     "status": "completed"
    },
    "tags": []
   },
   "outputs": [
    {
     "data": {
      "image/png": "[encoded data removed]",
      "text/plain": [
       "<Figure size 500x400 with 1 Axes>"
      ]
     },
     "metadata": {},
     "output_type": "display_data"
    }
   ],
   "source": [
    "# checking outliers for distance\n",
    "plt.figure(figsize=(5, 4))\n",
    "sns.boxplot(data=df['distance'])\n",
    "plt.xlabel('Distance')\n",
    "plt.ylabel('Value')\n",
    "plt.title('Detecting Outliers for Distance')\n",
    "plt.show()"
   ]
  },
  {
   "cell_type": "markdown",
   "id": "56a3f6f9",
   "metadata": {
    "papermill": {
     "duration": 0.025146,
     "end_time": "2024-07-09T02:06:46.347161",
     "exception": false,
     "start_time": "2024-07-09T02:06:46.322015",
     "status": "completed"
    },
    "tags": []
   },
   "source": [
    "Clearly, there is a large nnumber of outliers, so we remove them."
   ]
  },
  {
   "cell_type": "code",
   "execution_count": 26,
   "id": "6d4df97c",
   "metadata": {
    "execution": {
     "iopub.execute_input": "2024-07-09T02:06:46.399269Z",
     "iopub.status.busy": "2024-07-09T02:06:46.398911Z",
     "iopub.status.idle": "2024-07-09T02:06:46.635224Z",
     "shell.execute_reply": "2024-07-09T02:06:46.633232Z"
    },
    "papermill": {
     "duration": 0.265423,
     "end_time": "2024-07-09T02:06:46.637853",
     "exception": false,
     "start_time": "2024-07-09T02:06:46.372430",
     "status": "completed"
    },
    "tags": []
   },
   "outputs": [
    {
     "data": {
      "image/png": "[encoded data removed]",
      "text/plain": [
       "<Figure size 500x400 with 1 Axes>"
      ]
     },
     "metadata": {},
     "output_type": "display_data"
    }
   ],
   "source": [
    "# remove outliers\n",
    "df = remove_outliers(df, ['distance'])\n",
    "\n",
    "plt.figure(figsize=(5, 4))\n",
    "sns.boxplot(data=df['distance'])\n",
    "plt.xlabel('Distance')\n",
    "plt.ylabel('Value')\n",
    "plt.title('Detecting Outliers for Distance')\n",
    "plt.show()"
   ]
  },
  {
   "cell_type": "markdown",
   "id": "42786d0a",
   "metadata": {
    "papermill": {
     "duration": 0.026055,
     "end_time": "2024-07-09T02:06:46.689688",
     "exception": false,
     "start_time": "2024-07-09T02:06:46.663633",
     "status": "completed"
    },
    "tags": []
   },
   "source": [
    "## **☑ Boxing Coordinates**\n",
    "Now, we will design a custom box system of size 500m x 500m. We will assign all the coordinates within this box a specific number. We will do this for the entire dataset. We will be using **`UTM`** (Universal Transverse Mercator) coordinates and then assigning these coordinates to unique box IDs."
   ]
  },
  {
   "cell_type": "code",
   "execution_count": 27,
   "id": "4829775f",
   "metadata": {
    "execution": {
     "iopub.execute_input": "2024-07-09T02:06:46.743327Z",
     "iopub.status.busy": "2024-07-09T02:06:46.742961Z",
     "iopub.status.idle": "2024-07-09T02:07:02.239292Z",
     "shell.execute_reply": "2024-07-09T02:07:02.238086Z"
    },
    "papermill": {
     "duration": 15.526111,
     "end_time": "2024-07-09T02:07:02.241876",
     "exception": false,
     "start_time": "2024-07-09T02:06:46.715765",
     "status": "completed"
    },
    "tags": []
   },
   "outputs": [],
   "source": [
    "import subprocess\n",
    "import sys\n",
    "\n",
    "try:\n",
    "    import utm\n",
    "except ImportError:\n",
    "    print(\"utm module not found. Installing...\")\n",
    "    subprocess.check_call([sys.executable, \"-m\", \"pip\", \"install\", \"-q\", \"utm\"])\n",
    "    print('utm module installed successfully.')"
   ]
  },
  {
   "cell_type": "code",
   "execution_count": 28,
   "id": "54d13865",
   "metadata": {
    "execution": {
     "iopub.execute_input": "2024-07-09T02:07:02.295343Z",
     "iopub.status.busy": "2024-07-09T02:07:02.294959Z",
     "iopub.status.idle": "2024-07-09T02:07:36.753605Z",
     "shell.execute_reply": "2024-07-09T02:07:36.752489Z"
    },
    "papermill": {
     "duration": 34.513794,
     "end_time": "2024-07-09T02:07:36.781779",
     "exception": false,
     "start_time": "2024-07-09T02:07:02.267985",
     "status": "completed"
    },
    "tags": []
   },
   "outputs": [
    {
     "data": {
      "text/html": [
       "<div>\n",
       "<style scoped>\n",
       "    .dataframe tbody tr th:only-of-type {\n",
       "        vertical-align: middle;\n",
       "    }\n",
       "\n",
       "    .dataframe tbody tr th {\n",
       "        vertical-align: top;\n",
       "    }\n",
       "\n",
       "    .dataframe thead th {\n",
       "        text-align: right;\n",
       "    }\n",
       "</style>\n",
       "<table border=\"1\" class=\"dataframe\">\n",
       "  <thead>\n",
       "    <tr style=\"text-align: right;\">\n",
       "      <th></th>\n",
       "      <th>hour</th>\n",
       "      <th>weekday</th>\n",
       "      <th>date</th>\n",
       "      <th>month</th>\n",
       "      <th>year</th>\n",
       "      <th>pickup_longitude</th>\n",
       "      <th>pickup_latitude</th>\n",
       "      <th>dropoff_longitude</th>\n",
       "      <th>dropoff_latitude</th>\n",
       "      <th>passenger_count</th>\n",
       "      <th>fare_amount</th>\n",
       "      <th>distance</th>\n",
       "      <th>pickup</th>\n",
       "      <th>dropoff</th>\n",
       "    </tr>\n",
       "  </thead>\n",
       "  <tbody>\n",
       "    <tr>\n",
       "      <th>0</th>\n",
       "      <td>19</td>\n",
       "      <td>3</td>\n",
       "      <td>7</td>\n",
       "      <td>5</td>\n",
       "      <td>2015</td>\n",
       "      <td>-73.999817</td>\n",
       "      <td>40.738354</td>\n",
       "      <td>-73.999512</td>\n",
       "      <td>40.723217</td>\n",
       "      <td>1</td>\n",
       "      <td>7.5</td>\n",
       "      <td>1.683323</td>\n",
       "      <td>1.168009e+09</td>\n",
       "      <td>1.168009e+09</td>\n",
       "    </tr>\n",
       "    <tr>\n",
       "      <th>1</th>\n",
       "      <td>20</td>\n",
       "      <td>4</td>\n",
       "      <td>17</td>\n",
       "      <td>7</td>\n",
       "      <td>2009</td>\n",
       "      <td>-73.994355</td>\n",
       "      <td>40.728225</td>\n",
       "      <td>-73.994710</td>\n",
       "      <td>40.750325</td>\n",
       "      <td>1</td>\n",
       "      <td>7.7</td>\n",
       "      <td>2.457590</td>\n",
       "      <td>1.169009e+09</td>\n",
       "      <td>1.169009e+09</td>\n",
       "    </tr>\n",
       "    <tr>\n",
       "      <th>2</th>\n",
       "      <td>21</td>\n",
       "      <td>0</td>\n",
       "      <td>24</td>\n",
       "      <td>8</td>\n",
       "      <td>2009</td>\n",
       "      <td>-74.005043</td>\n",
       "      <td>40.740770</td>\n",
       "      <td>-73.962565</td>\n",
       "      <td>40.772647</td>\n",
       "      <td>1</td>\n",
       "      <td>12.9</td>\n",
       "      <td>5.036377</td>\n",
       "      <td>1.168009e+09</td>\n",
       "      <td>1.175009e+09</td>\n",
       "    </tr>\n",
       "    <tr>\n",
       "      <th>3</th>\n",
       "      <td>8</td>\n",
       "      <td>4</td>\n",
       "      <td>26</td>\n",
       "      <td>6</td>\n",
       "      <td>2009</td>\n",
       "      <td>-73.976124</td>\n",
       "      <td>40.790844</td>\n",
       "      <td>-73.965316</td>\n",
       "      <td>40.803349</td>\n",
       "      <td>3</td>\n",
       "      <td>5.3</td>\n",
       "      <td>1.661683</td>\n",
       "      <td>1.172009e+09</td>\n",
       "      <td>1.174009e+09</td>\n",
       "    </tr>\n",
       "    <tr>\n",
       "      <th>4</th>\n",
       "      <td>17</td>\n",
       "      <td>3</td>\n",
       "      <td>28</td>\n",
       "      <td>8</td>\n",
       "      <td>2014</td>\n",
       "      <td>-73.929790</td>\n",
       "      <td>40.744085</td>\n",
       "      <td>-73.973082</td>\n",
       "      <td>40.761247</td>\n",
       "      <td>5</td>\n",
       "      <td>16.0</td>\n",
       "      <td>4.115803</td>\n",
       "      <td>1.180009e+09</td>\n",
       "      <td>1.173009e+09</td>\n",
       "    </tr>\n",
       "  </tbody>\n",
       "</table>\n",
       "</div>"
      ],
      "text/plain": [
       "   hour  weekday  date  month  year  pickup_longitude  pickup_latitude  \\\n",
       "0    19        3     7      5  2015        -73.999817        40.738354   \n",
       "1    20        4    17      7  2009        -73.994355        40.728225   \n",
       "2    21        0    24      8  2009        -74.005043        40.740770   \n",
       "3     8        4    26      6  2009        -73.976124        40.790844   \n",
       "4    17        3    28      8  2014        -73.929790        40.744085   \n",
       "\n",
       "   dropoff_longitude  dropoff_latitude  passenger_count  fare_amount  \\\n",
       "0         -73.999512         40.723217                1          7.5   \n",
       "1         -73.994710         40.750325                1          7.7   \n",
       "2         -73.962565         40.772647                1         12.9   \n",
       "3         -73.965316         40.803349                3          5.3   \n",
       "4         -73.973082         40.761247                5         16.0   \n",
       "\n",
       "   distance        pickup       dropoff  \n",
       "0  1.683323  1.168009e+09  1.168009e+09  \n",
       "1  2.457590  1.169009e+09  1.169009e+09  \n",
       "2  5.036377  1.168009e+09  1.175009e+09  \n",
       "3  1.661683  1.172009e+09  1.174009e+09  \n",
       "4  4.115803  1.180009e+09  1.173009e+09  "
      ]
     },
     "execution_count": 28,
     "metadata": {},
     "output_type": "execute_result"
    }
   ],
   "source": [
    "import utm\n",
    "\n",
    "# Function to convert lat/lon to UTM coordinates\n",
    "def convert_to_utm(lat, lon):\n",
    "    u = utm.from_latlon(lat, lon)\n",
    "    return u[0], u[1]\n",
    "\n",
    "# Function to assign a box based on UTM coordinates and box size\n",
    "def assign_box(lat, lon, box_size, mapping_dict):\n",
    "    utm_x, utm_y = convert_to_utm(lat, lon)\n",
    "    box_x = int(utm_x // box_size)\n",
    "    box_y = int(utm_y // box_size)\n",
    "    box_id = box_x * 1e6 + box_y\n",
    "    mapping_dict[(lat, lon)] = box_id\n",
    "    return box_id\n",
    "\n",
    "# Box size in meters\n",
    "box_size = 500\n",
    "\n",
    "# Create data mappings for pickup and dropoff locations\n",
    "pickup_mapping = {}\n",
    "dropoff_mapping = {}\n",
    "\n",
    "# Assign box numbers and save mappings\n",
    "df['pickup'] = df.apply(lambda row: assign_box(row['pickup_latitude'], row['pickup_longitude'], box_size, pickup_mapping), axis=1)\n",
    "df['dropoff'] = df.apply(lambda row: assign_box(row['dropoff_latitude'], row['dropoff_longitude'], box_size, dropoff_mapping), axis=1)\n",
    "\n",
    "df.head()"
   ]
  },
  {
   "cell_type": "code",
   "execution_count": 29,
   "id": "267327b1",
   "metadata": {
    "execution": {
     "iopub.execute_input": "2024-07-09T02:07:36.835009Z",
     "iopub.status.busy": "2024-07-09T02:07:36.834653Z",
     "iopub.status.idle": "2024-07-09T02:07:36.862164Z",
     "shell.execute_reply": "2024-07-09T02:07:36.861046Z"
    },
    "papermill": {
     "duration": 0.056759,
     "end_time": "2024-07-09T02:07:36.864496",
     "exception": false,
     "start_time": "2024-07-09T02:07:36.807737",
     "status": "completed"
    },
    "tags": []
   },
   "outputs": [
    {
     "data": {
      "text/html": [
       "<div>\n",
       "<style scoped>\n",
       "    .dataframe tbody tr th:only-of-type {\n",
       "        vertical-align: middle;\n",
       "    }\n",
       "\n",
       "    .dataframe tbody tr th {\n",
       "        vertical-align: top;\n",
       "    }\n",
       "\n",
       "    .dataframe thead th {\n",
       "        text-align: right;\n",
       "    }\n",
       "</style>\n",
       "<table border=\"1\" class=\"dataframe\">\n",
       "  <thead>\n",
       "    <tr style=\"text-align: right;\">\n",
       "      <th></th>\n",
       "      <th>hour</th>\n",
       "      <th>weekday</th>\n",
       "      <th>date</th>\n",
       "      <th>month</th>\n",
       "      <th>year</th>\n",
       "      <th>passenger_count</th>\n",
       "      <th>pickup</th>\n",
       "      <th>dropoff</th>\n",
       "      <th>distance</th>\n",
       "      <th>fare_amount</th>\n",
       "    </tr>\n",
       "  </thead>\n",
       "  <tbody>\n",
       "    <tr>\n",
       "      <th>0</th>\n",
       "      <td>19</td>\n",
       "      <td>3</td>\n",
       "      <td>7</td>\n",
       "      <td>5</td>\n",
       "      <td>2015</td>\n",
       "      <td>1</td>\n",
       "      <td>1.168009e+09</td>\n",
       "      <td>1.168009e+09</td>\n",
       "      <td>1.683323</td>\n",
       "      <td>7.5</td>\n",
       "    </tr>\n",
       "    <tr>\n",
       "      <th>1</th>\n",
       "      <td>20</td>\n",
       "      <td>4</td>\n",
       "      <td>17</td>\n",
       "      <td>7</td>\n",
       "      <td>2009</td>\n",
       "      <td>1</td>\n",
       "      <td>1.169009e+09</td>\n",
       "      <td>1.169009e+09</td>\n",
       "      <td>2.457590</td>\n",
       "      <td>7.7</td>\n",
       "    </tr>\n",
       "    <tr>\n",
       "      <th>2</th>\n",
       "      <td>21</td>\n",
       "      <td>0</td>\n",
       "      <td>24</td>\n",
       "      <td>8</td>\n",
       "      <td>2009</td>\n",
       "      <td>1</td>\n",
       "      <td>1.168009e+09</td>\n",
       "      <td>1.175009e+09</td>\n",
       "      <td>5.036377</td>\n",
       "      <td>12.9</td>\n",
       "    </tr>\n",
       "    <tr>\n",
       "      <th>3</th>\n",
       "      <td>8</td>\n",
       "      <td>4</td>\n",
       "      <td>26</td>\n",
       "      <td>6</td>\n",
       "      <td>2009</td>\n",
       "      <td>3</td>\n",
       "      <td>1.172009e+09</td>\n",
       "      <td>1.174009e+09</td>\n",
       "      <td>1.661683</td>\n",
       "      <td>5.3</td>\n",
       "    </tr>\n",
       "    <tr>\n",
       "      <th>4</th>\n",
       "      <td>17</td>\n",
       "      <td>3</td>\n",
       "      <td>28</td>\n",
       "      <td>8</td>\n",
       "      <td>2014</td>\n",
       "      <td>5</td>\n",
       "      <td>1.180009e+09</td>\n",
       "      <td>1.173009e+09</td>\n",
       "      <td>4.115803</td>\n",
       "      <td>16.0</td>\n",
       "    </tr>\n",
       "  </tbody>\n",
       "</table>\n",
       "</div>"
      ],
      "text/plain": [
       "   hour  weekday  date  month  year  passenger_count        pickup  \\\n",
       "0    19        3     7      5  2015                1  1.168009e+09   \n",
       "1    20        4    17      7  2009                1  1.169009e+09   \n",
       "2    21        0    24      8  2009                1  1.168009e+09   \n",
       "3     8        4    26      6  2009                3  1.172009e+09   \n",
       "4    17        3    28      8  2014                5  1.180009e+09   \n",
       "\n",
       "        dropoff  distance  fare_amount  \n",
       "0  1.168009e+09  1.683323          7.5  \n",
       "1  1.169009e+09  2.457590          7.7  \n",
       "2  1.175009e+09  5.036377         12.9  \n",
       "3  1.174009e+09  1.661683          5.3  \n",
       "4  1.173009e+09  4.115803         16.0  "
      ]
     },
     "execution_count": 29,
     "metadata": {},
     "output_type": "execute_result"
    }
   ],
   "source": [
    "# selecting required columns only\n",
    "df = df[['hour','weekday', 'date', 'month', 'year', 'passenger_count','pickup', 'dropoff', 'distance', 'fare_amount']]\n",
    "df = df.reset_index(drop=True)\n",
    "\n",
    "df.head()"
   ]
  },
  {
   "cell_type": "markdown",
   "id": "75d20b47",
   "metadata": {
    "papermill": {
     "duration": 0.025911,
     "end_time": "2024-07-09T02:07:36.916958",
     "exception": false,
     "start_time": "2024-07-09T02:07:36.891047",
     "status": "completed"
    },
    "tags": []
   },
   "source": [
    "## **📆 Simplifying Hour, Weekday, Month and Date**"
   ]
  },
  {
   "cell_type": "markdown",
   "id": "711d5f29",
   "metadata": {
    "papermill": {
     "duration": 0.025791,
     "end_time": "2024-07-09T02:07:36.968963",
     "exception": false,
     "start_time": "2024-07-09T02:07:36.943172",
     "status": "completed"
    },
    "tags": []
   },
   "source": [
    "### **🛹 Hours of the Day**"
   ]
  },
  {
   "cell_type": "code",
   "execution_count": 30,
   "id": "7b5ff2ca",
   "metadata": {
    "execution": {
     "iopub.execute_input": "2024-07-09T02:07:37.023057Z",
     "iopub.status.busy": "2024-07-09T02:07:37.022678Z",
     "iopub.status.idle": "2024-07-09T02:07:37.422592Z",
     "shell.execute_reply": "2024-07-09T02:07:37.421488Z"
    },
    "papermill": {
     "duration": 0.430034,
     "end_time": "2024-07-09T02:07:37.425174",
     "exception": false,
     "start_time": "2024-07-09T02:07:36.995140",
     "status": "completed"
    },
    "tags": []
   },
   "outputs": [
    {
     "data": {
      "image/png": "[encoded data removed]",
      "text/plain": [
       "<Figure size 1500x500 with 1 Axes>"
      ]
     },
     "metadata": {},
     "output_type": "display_data"
    }
   ],
   "source": [
    "# Create the count plot for the hour\n",
    "plt.figure(figsize=(15, 5))\n",
    "sns.countplot(x='hour', data=df, palette='coolwarm')\n",
    "plt.title('Count Plot of Hours')\n",
    "plt.xlabel('Hour of the Day')\n",
    "plt.ylabel('Count')\n",
    "plt.xticks(range(24))\n",
    "plt.show()"
   ]
  },
  {
   "cell_type": "code",
   "execution_count": 31,
   "id": "78131bd5",
   "metadata": {
    "execution": {
     "iopub.execute_input": "2024-07-09T02:07:37.481402Z",
     "iopub.status.busy": "2024-07-09T02:07:37.481002Z",
     "iopub.status.idle": "2024-07-09T02:07:37.570662Z",
     "shell.execute_reply": "2024-07-09T02:07:37.569553Z"
    },
    "papermill": {
     "duration": 0.120476,
     "end_time": "2024-07-09T02:07:37.573082",
     "exception": false,
     "start_time": "2024-07-09T02:07:37.452606",
     "status": "completed"
    },
    "tags": []
   },
   "outputs": [
    {
     "data": {
      "text/html": [
       "<div>\n",
       "<style scoped>\n",
       "    .dataframe tbody tr th:only-of-type {\n",
       "        vertical-align: middle;\n",
       "    }\n",
       "\n",
       "    .dataframe tbody tr th {\n",
       "        vertical-align: top;\n",
       "    }\n",
       "\n",
       "    .dataframe thead th {\n",
       "        text-align: right;\n",
       "    }\n",
       "</style>\n",
       "<table border=\"1\" class=\"dataframe\">\n",
       "  <thead>\n",
       "    <tr style=\"text-align: right;\">\n",
       "      <th></th>\n",
       "      <th>weekday</th>\n",
       "      <th>date</th>\n",
       "      <th>month</th>\n",
       "      <th>year</th>\n",
       "      <th>passenger_count</th>\n",
       "      <th>pickup</th>\n",
       "      <th>dropoff</th>\n",
       "      <th>distance</th>\n",
       "      <th>fare_amount</th>\n",
       "      <th>time</th>\n",
       "    </tr>\n",
       "  </thead>\n",
       "  <tbody>\n",
       "    <tr>\n",
       "      <th>0</th>\n",
       "      <td>3</td>\n",
       "      <td>7</td>\n",
       "      <td>5</td>\n",
       "      <td>2015</td>\n",
       "      <td>1</td>\n",
       "      <td>1.168009e+09</td>\n",
       "      <td>1.168009e+09</td>\n",
       "      <td>1.683323</td>\n",
       "      <td>7.5</td>\n",
       "      <td>Evening</td>\n",
       "    </tr>\n",
       "    <tr>\n",
       "      <th>1</th>\n",
       "      <td>4</td>\n",
       "      <td>17</td>\n",
       "      <td>7</td>\n",
       "      <td>2009</td>\n",
       "      <td>1</td>\n",
       "      <td>1.169009e+09</td>\n",
       "      <td>1.169009e+09</td>\n",
       "      <td>2.457590</td>\n",
       "      <td>7.7</td>\n",
       "      <td>Evening</td>\n",
       "    </tr>\n",
       "    <tr>\n",
       "      <th>2</th>\n",
       "      <td>0</td>\n",
       "      <td>24</td>\n",
       "      <td>8</td>\n",
       "      <td>2009</td>\n",
       "      <td>1</td>\n",
       "      <td>1.168009e+09</td>\n",
       "      <td>1.175009e+09</td>\n",
       "      <td>5.036377</td>\n",
       "      <td>12.9</td>\n",
       "      <td>Evening</td>\n",
       "    </tr>\n",
       "    <tr>\n",
       "      <th>3</th>\n",
       "      <td>4</td>\n",
       "      <td>26</td>\n",
       "      <td>6</td>\n",
       "      <td>2009</td>\n",
       "      <td>3</td>\n",
       "      <td>1.172009e+09</td>\n",
       "      <td>1.174009e+09</td>\n",
       "      <td>1.661683</td>\n",
       "      <td>5.3</td>\n",
       "      <td>Morning</td>\n",
       "    </tr>\n",
       "    <tr>\n",
       "      <th>4</th>\n",
       "      <td>3</td>\n",
       "      <td>28</td>\n",
       "      <td>8</td>\n",
       "      <td>2014</td>\n",
       "      <td>5</td>\n",
       "      <td>1.180009e+09</td>\n",
       "      <td>1.173009e+09</td>\n",
       "      <td>4.115803</td>\n",
       "      <td>16.0</td>\n",
       "      <td>Evening</td>\n",
       "    </tr>\n",
       "  </tbody>\n",
       "</table>\n",
       "</div>"
      ],
      "text/plain": [
       "   weekday  date  month  year  passenger_count        pickup       dropoff  \\\n",
       "0        3     7      5  2015                1  1.168009e+09  1.168009e+09   \n",
       "1        4    17      7  2009                1  1.169009e+09  1.169009e+09   \n",
       "2        0    24      8  2009                1  1.168009e+09  1.175009e+09   \n",
       "3        4    26      6  2009                3  1.172009e+09  1.174009e+09   \n",
       "4        3    28      8  2014                5  1.180009e+09  1.173009e+09   \n",
       "\n",
       "   distance  fare_amount     time  \n",
       "0  1.683323          7.5  Evening  \n",
       "1  2.457590          7.7  Evening  \n",
       "2  5.036377         12.9  Evening  \n",
       "3  1.661683          5.3  Morning  \n",
       "4  4.115803         16.0  Evening  "
      ]
     },
     "execution_count": 31,
     "metadata": {},
     "output_type": "execute_result"
    }
   ],
   "source": [
    "# Function to categorize hours\n",
    "def categorize_hour(hour):\n",
    "    if 0 <= hour <= 5:\n",
    "        return 'Early Morning'\n",
    "    elif 6 <= hour <= 11:\n",
    "        return 'Morning'\n",
    "    elif 12 <= hour <= 15:\n",
    "        return 'Afternoon'\n",
    "    elif 16 <= hour <= 21:\n",
    "        return 'Evening'\n",
    "    elif 22 <= hour <= 23:\n",
    "        return 'Late Night'\n",
    "\n",
    "# Apply the function to create a new column 'time_of_day'\n",
    "df['time'] = df['hour'].apply(categorize_hour)\n",
    "df = df.drop('hour', axis=1)\n",
    "\n",
    "df.head()"
   ]
  },
  {
   "cell_type": "code",
   "execution_count": 32,
   "id": "2081ad9d",
   "metadata": {
    "execution": {
     "iopub.execute_input": "2024-07-09T02:07:37.641554Z",
     "iopub.status.busy": "2024-07-09T02:07:37.640970Z",
     "iopub.status.idle": "2024-07-09T02:07:37.979014Z",
     "shell.execute_reply": "2024-07-09T02:07:37.977731Z"
    },
    "papermill": {
     "duration": 0.380509,
     "end_time": "2024-07-09T02:07:37.982177",
     "exception": false,
     "start_time": "2024-07-09T02:07:37.601668",
     "status": "completed"
    },
    "tags": []
   },
   "outputs": [
    {
     "data": {
      "image/png": "[encoded data removed]",
      "text/plain": [
       "<Figure size 600x400 with 1 Axes>"
      ]
     },
     "metadata": {},
     "output_type": "display_data"
    }
   ],
   "source": [
    "plt.figure(figsize=(6, 4))\n",
    "sns.countplot(x='time', data=df, palette='coolwarm', order=['Early Morning', 'Morning', 'Afternoon', 'Evening', 'Late Night'])\n",
    "plt.title('Count Plot of Time of Day Categories')\n",
    "plt.xlabel('Time of Day')\n",
    "plt.ylabel('Count')\n",
    "plt.show()"
   ]
  },
  {
   "cell_type": "markdown",
   "id": "daa55d93",
   "metadata": {
    "papermill": {
     "duration": 0.027988,
     "end_time": "2024-07-09T02:07:38.039371",
     "exception": false,
     "start_time": "2024-07-09T02:07:38.011383",
     "status": "completed"
    },
    "tags": []
   },
   "source": [
    "### **⚓ Weekdays of the Month**"
   ]
  },
  {
   "cell_type": "code",
   "execution_count": 33,
   "id": "8a68073b",
   "metadata": {
    "execution": {
     "iopub.execute_input": "2024-07-09T02:07:38.096983Z",
     "iopub.status.busy": "2024-07-09T02:07:38.096476Z",
     "iopub.status.idle": "2024-07-09T02:07:38.381166Z",
     "shell.execute_reply": "2024-07-09T02:07:38.379973Z"
    },
    "papermill": {
     "duration": 0.316408,
     "end_time": "2024-07-09T02:07:38.383779",
     "exception": false,
     "start_time": "2024-07-09T02:07:38.067371",
     "status": "completed"
    },
    "tags": []
   },
   "outputs": [
    {
     "data": {
      "image/png": "[encoded data removed]",
      "text/plain": [
       "<Figure size 800x500 with 1 Axes>"
      ]
     },
     "metadata": {},
     "output_type": "display_data"
    }
   ],
   "source": [
    "# Create the count plot for the days of the week\n",
    "plt.figure(figsize=(8, 5))\n",
    "sns.countplot(x='weekday', data=df, palette='coolwarm')\n",
    "plt.title('Count Plot of Weekdays')\n",
    "plt.xlabel('Day of the week')\n",
    "plt.ylabel('Count')\n",
    "plt.ylim(24500, 32000)\n",
    "plt.xticks(range(7))\n",
    "plt.show()"
   ]
  },
  {
   "cell_type": "code",
   "execution_count": 34,
   "id": "cd633b45",
   "metadata": {
    "execution": {
     "iopub.execute_input": "2024-07-09T02:07:38.444715Z",
     "iopub.status.busy": "2024-07-09T02:07:38.443625Z",
     "iopub.status.idle": "2024-07-09T02:07:38.477426Z",
     "shell.execute_reply": "2024-07-09T02:07:38.476237Z"
    },
    "papermill": {
     "duration": 0.067825,
     "end_time": "2024-07-09T02:07:38.479989",
     "exception": false,
     "start_time": "2024-07-09T02:07:38.412164",
     "status": "completed"
    },
    "tags": []
   },
   "outputs": [
    {
     "data": {
      "text/html": [
       "<div>\n",
       "<style scoped>\n",
       "    .dataframe tbody tr th:only-of-type {\n",
       "        vertical-align: middle;\n",
       "    }\n",
       "\n",
       "    .dataframe tbody tr th {\n",
       "        vertical-align: top;\n",
       "    }\n",
       "\n",
       "    .dataframe thead th {\n",
       "        text-align: right;\n",
       "    }\n",
       "</style>\n",
       "<table border=\"1\" class=\"dataframe\">\n",
       "  <thead>\n",
       "    <tr style=\"text-align: right;\">\n",
       "      <th></th>\n",
       "      <th>date</th>\n",
       "      <th>month</th>\n",
       "      <th>year</th>\n",
       "      <th>passenger_count</th>\n",
       "      <th>pickup</th>\n",
       "      <th>dropoff</th>\n",
       "      <th>distance</th>\n",
       "      <th>fare_amount</th>\n",
       "      <th>time</th>\n",
       "      <th>weekend</th>\n",
       "    </tr>\n",
       "  </thead>\n",
       "  <tbody>\n",
       "    <tr>\n",
       "      <th>0</th>\n",
       "      <td>7</td>\n",
       "      <td>5</td>\n",
       "      <td>2015</td>\n",
       "      <td>1</td>\n",
       "      <td>1.168009e+09</td>\n",
       "      <td>1.168009e+09</td>\n",
       "      <td>1.683323</td>\n",
       "      <td>7.5</td>\n",
       "      <td>Evening</td>\n",
       "      <td>0</td>\n",
       "    </tr>\n",
       "    <tr>\n",
       "      <th>1</th>\n",
       "      <td>17</td>\n",
       "      <td>7</td>\n",
       "      <td>2009</td>\n",
       "      <td>1</td>\n",
       "      <td>1.169009e+09</td>\n",
       "      <td>1.169009e+09</td>\n",
       "      <td>2.457590</td>\n",
       "      <td>7.7</td>\n",
       "      <td>Evening</td>\n",
       "      <td>1</td>\n",
       "    </tr>\n",
       "    <tr>\n",
       "      <th>2</th>\n",
       "      <td>24</td>\n",
       "      <td>8</td>\n",
       "      <td>2009</td>\n",
       "      <td>1</td>\n",
       "      <td>1.168009e+09</td>\n",
       "      <td>1.175009e+09</td>\n",
       "      <td>5.036377</td>\n",
       "      <td>12.9</td>\n",
       "      <td>Evening</td>\n",
       "      <td>0</td>\n",
       "    </tr>\n",
       "    <tr>\n",
       "      <th>3</th>\n",
       "      <td>26</td>\n",
       "      <td>6</td>\n",
       "      <td>2009</td>\n",
       "      <td>3</td>\n",
       "      <td>1.172009e+09</td>\n",
       "      <td>1.174009e+09</td>\n",
       "      <td>1.661683</td>\n",
       "      <td>5.3</td>\n",
       "      <td>Morning</td>\n",
       "      <td>1</td>\n",
       "    </tr>\n",
       "    <tr>\n",
       "      <th>4</th>\n",
       "      <td>28</td>\n",
       "      <td>8</td>\n",
       "      <td>2014</td>\n",
       "      <td>5</td>\n",
       "      <td>1.180009e+09</td>\n",
       "      <td>1.173009e+09</td>\n",
       "      <td>4.115803</td>\n",
       "      <td>16.0</td>\n",
       "      <td>Evening</td>\n",
       "      <td>0</td>\n",
       "    </tr>\n",
       "  </tbody>\n",
       "</table>\n",
       "</div>"
      ],
      "text/plain": [
       "   date  month  year  passenger_count        pickup       dropoff  distance  \\\n",
       "0     7      5  2015                1  1.168009e+09  1.168009e+09  1.683323   \n",
       "1    17      7  2009                1  1.169009e+09  1.169009e+09  2.457590   \n",
       "2    24      8  2009                1  1.168009e+09  1.175009e+09  5.036377   \n",
       "3    26      6  2009                3  1.172009e+09  1.174009e+09  1.661683   \n",
       "4    28      8  2014                5  1.180009e+09  1.173009e+09  4.115803   \n",
       "\n",
       "   fare_amount     time  weekend  \n",
       "0          7.5  Evening        0  \n",
       "1          7.7  Evening        1  \n",
       "2         12.9  Evening        0  \n",
       "3          5.3  Morning        1  \n",
       "4         16.0  Evening        0  "
      ]
     },
     "execution_count": 34,
     "metadata": {},
     "output_type": "execute_result"
    }
   ],
   "source": [
    "df['weekend'] = df['weekday'].isin([4, 5, 6]).astype(int)\n",
    "df = df.drop('weekday', axis=1)\n",
    "\n",
    "df.head()"
   ]
  },
  {
   "cell_type": "code",
   "execution_count": 35,
   "id": "e2389bbc",
   "metadata": {
    "execution": {
     "iopub.execute_input": "2024-07-09T02:07:38.541351Z",
     "iopub.status.busy": "2024-07-09T02:07:38.540360Z",
     "iopub.status.idle": "2024-07-09T02:07:38.764263Z",
     "shell.execute_reply": "2024-07-09T02:07:38.763171Z"
    },
    "papermill": {
     "duration": 0.257235,
     "end_time": "2024-07-09T02:07:38.766808",
     "exception": false,
     "start_time": "2024-07-09T02:07:38.509573",
     "status": "completed"
    },
    "tags": []
   },
   "outputs": [
    {
     "data": {
      "image/png": "[encoded data removed]",
      "text/plain": [
       "<Figure size 500x500 with 1 Axes>"
      ]
     },
     "metadata": {},
     "output_type": "display_data"
    }
   ],
   "source": [
    "plt.figure(figsize=(5, 5))\n",
    "sns.countplot(x='weekend', data=df, palette='coolwarm')\n",
    "plt.title('Count Plot of Weekdays')\n",
    "plt.xlabel('Day of the week')\n",
    "plt.ylabel('Count')\n",
    "plt.ylim(85000,115000)\n",
    "plt.xticks(range(2))\n",
    "plt.show()"
   ]
  },
  {
   "cell_type": "markdown",
   "id": "00c1d0ff",
   "metadata": {
    "papermill": {
     "duration": 0.029343,
     "end_time": "2024-07-09T02:07:38.825756",
     "exception": false,
     "start_time": "2024-07-09T02:07:38.796413",
     "status": "completed"
    },
    "tags": []
   },
   "source": [
    "### **🚋 Days of the Month**"
   ]
  },
  {
   "cell_type": "code",
   "execution_count": 36,
   "id": "39a429d5",
   "metadata": {
    "execution": {
     "iopub.execute_input": "2024-07-09T02:07:38.888505Z",
     "iopub.status.busy": "2024-07-09T02:07:38.887492Z",
     "iopub.status.idle": "2024-07-09T02:07:39.350498Z",
     "shell.execute_reply": "2024-07-09T02:07:39.349251Z"
    },
    "papermill": {
     "duration": 0.495527,
     "end_time": "2024-07-09T02:07:39.352981",
     "exception": false,
     "start_time": "2024-07-09T02:07:38.857454",
     "status": "completed"
    },
    "tags": []
   },
   "outputs": [
    {
     "data": {
      "image/png": "[encoded data removed]",
      "text/plain": [
       "<Figure size 1800x500 with 1 Axes>"
      ]
     },
     "metadata": {},
     "output_type": "display_data"
    }
   ],
   "source": [
    "# Create the count plot for the days of the month\n",
    "plt.figure(figsize=(18, 5))\n",
    "sns.countplot(x='date', data=df, palette='coolwarm')\n",
    "plt.title('Count Plot of Days')\n",
    "plt.xlabel('Day of the Month')\n",
    "plt.ylabel('Count')\n",
    "plt.ylim(3500, 7000)\n",
    "plt.xticks(range(31))\n",
    "plt.show()"
   ]
  },
  {
   "cell_type": "code",
   "execution_count": 37,
   "id": "59e64424",
   "metadata": {
    "execution": {
     "iopub.execute_input": "2024-07-09T02:07:39.414637Z",
     "iopub.status.busy": "2024-07-09T02:07:39.414203Z",
     "iopub.status.idle": "2024-07-09T02:07:39.502354Z",
     "shell.execute_reply": "2024-07-09T02:07:39.500977Z"
    },
    "papermill": {
     "duration": 0.12226,
     "end_time": "2024-07-09T02:07:39.505136",
     "exception": false,
     "start_time": "2024-07-09T02:07:39.382876",
     "status": "completed"
    },
    "tags": []
   },
   "outputs": [
    {
     "data": {
      "text/html": [
       "<div>\n",
       "<style scoped>\n",
       "    .dataframe tbody tr th:only-of-type {\n",
       "        vertical-align: middle;\n",
       "    }\n",
       "\n",
       "    .dataframe tbody tr th {\n",
       "        vertical-align: top;\n",
       "    }\n",
       "\n",
       "    .dataframe thead th {\n",
       "        text-align: right;\n",
       "    }\n",
       "</style>\n",
       "<table border=\"1\" class=\"dataframe\">\n",
       "  <thead>\n",
       "    <tr style=\"text-align: right;\">\n",
       "      <th></th>\n",
       "      <th>month</th>\n",
       "      <th>year</th>\n",
       "      <th>passenger_count</th>\n",
       "      <th>pickup</th>\n",
       "      <th>dropoff</th>\n",
       "      <th>distance</th>\n",
       "      <th>fare_amount</th>\n",
       "      <th>time</th>\n",
       "      <th>weekend</th>\n",
       "      <th>tri_monthly</th>\n",
       "    </tr>\n",
       "  </thead>\n",
       "  <tbody>\n",
       "    <tr>\n",
       "      <th>0</th>\n",
       "      <td>5</td>\n",
       "      <td>2015</td>\n",
       "      <td>1</td>\n",
       "      <td>1.168009e+09</td>\n",
       "      <td>1.168009e+09</td>\n",
       "      <td>1.683323</td>\n",
       "      <td>7.5</td>\n",
       "      <td>Evening</td>\n",
       "      <td>0</td>\n",
       "      <td>Early</td>\n",
       "    </tr>\n",
       "    <tr>\n",
       "      <th>1</th>\n",
       "      <td>7</td>\n",
       "      <td>2009</td>\n",
       "      <td>1</td>\n",
       "      <td>1.169009e+09</td>\n",
       "      <td>1.169009e+09</td>\n",
       "      <td>2.457590</td>\n",
       "      <td>7.7</td>\n",
       "      <td>Evening</td>\n",
       "      <td>1</td>\n",
       "      <td>Middle</td>\n",
       "    </tr>\n",
       "    <tr>\n",
       "      <th>2</th>\n",
       "      <td>8</td>\n",
       "      <td>2009</td>\n",
       "      <td>1</td>\n",
       "      <td>1.168009e+09</td>\n",
       "      <td>1.175009e+09</td>\n",
       "      <td>5.036377</td>\n",
       "      <td>12.9</td>\n",
       "      <td>Evening</td>\n",
       "      <td>0</td>\n",
       "      <td>End</td>\n",
       "    </tr>\n",
       "    <tr>\n",
       "      <th>3</th>\n",
       "      <td>6</td>\n",
       "      <td>2009</td>\n",
       "      <td>3</td>\n",
       "      <td>1.172009e+09</td>\n",
       "      <td>1.174009e+09</td>\n",
       "      <td>1.661683</td>\n",
       "      <td>5.3</td>\n",
       "      <td>Morning</td>\n",
       "      <td>1</td>\n",
       "      <td>End</td>\n",
       "    </tr>\n",
       "    <tr>\n",
       "      <th>4</th>\n",
       "      <td>8</td>\n",
       "      <td>2014</td>\n",
       "      <td>5</td>\n",
       "      <td>1.180009e+09</td>\n",
       "      <td>1.173009e+09</td>\n",
       "      <td>4.115803</td>\n",
       "      <td>16.0</td>\n",
       "      <td>Evening</td>\n",
       "      <td>0</td>\n",
       "      <td>End</td>\n",
       "    </tr>\n",
       "  </tbody>\n",
       "</table>\n",
       "</div>"
      ],
      "text/plain": [
       "   month  year  passenger_count        pickup       dropoff  distance  \\\n",
       "0      5  2015                1  1.168009e+09  1.168009e+09  1.683323   \n",
       "1      7  2009                1  1.169009e+09  1.169009e+09  2.457590   \n",
       "2      8  2009                1  1.168009e+09  1.175009e+09  5.036377   \n",
       "3      6  2009                3  1.172009e+09  1.174009e+09  1.661683   \n",
       "4      8  2014                5  1.180009e+09  1.173009e+09  4.115803   \n",
       "\n",
       "   fare_amount     time  weekend tri_monthly  \n",
       "0          7.5  Evening        0       Early  \n",
       "1          7.7  Evening        1      Middle  \n",
       "2         12.9  Evening        0         End  \n",
       "3          5.3  Morning        1         End  \n",
       "4         16.0  Evening        0         End  "
      ]
     },
     "execution_count": 37,
     "metadata": {},
     "output_type": "execute_result"
    }
   ],
   "source": [
    "# Function to categorize days of the month\n",
    "def categorize_date(date):\n",
    "    if 0 <= date <= 10:\n",
    "        return 'Early'\n",
    "    elif 11 <= date <= 20:\n",
    "        return 'Middle'\n",
    "    elif 21 <= date <= 31:\n",
    "        return 'End'\n",
    "\n",
    "# Apply the function to create a new column 'time_of_day'\n",
    "df['tri_monthly'] = df['date'].apply(categorize_date)\n",
    "df = df.drop('date', axis=1)\n",
    "\n",
    "df.head()"
   ]
  },
  {
   "cell_type": "code",
   "execution_count": 38,
   "id": "db15fa45",
   "metadata": {
    "execution": {
     "iopub.execute_input": "2024-07-09T02:07:39.567778Z",
     "iopub.status.busy": "2024-07-09T02:07:39.567375Z",
     "iopub.status.idle": "2024-07-09T02:07:39.920726Z",
     "shell.execute_reply": "2024-07-09T02:07:39.919573Z"
    },
    "papermill": {
     "duration": 0.386811,
     "end_time": "2024-07-09T02:07:39.922905",
     "exception": false,
     "start_time": "2024-07-09T02:07:39.536094",
     "status": "completed"
    },
    "tags": []
   },
   "outputs": [
    {
     "data": {
      "image/png": "[encoded data removed]",
      "text/plain": [
       "<Figure size 500x500 with 1 Axes>"
      ]
     },
     "metadata": {},
     "output_type": "display_data"
    }
   ],
   "source": [
    "plt.figure(figsize=(5, 5))\n",
    "sns.countplot(x='tri_monthly', data=df, palette='coolwarm')\n",
    "plt.title('Count Plot of Days of Month')\n",
    "plt.xlabel('Days of Month')\n",
    "plt.ylabel('Count')\n",
    "plt.ylim(64000,68000)\n",
    "plt.xticks(range(3))\n",
    "plt.show()"
   ]
  },
  {
   "cell_type": "markdown",
   "id": "9278251e",
   "metadata": {
    "papermill": {
     "duration": 0.030226,
     "end_time": "2024-07-09T02:07:39.983609",
     "exception": false,
     "start_time": "2024-07-09T02:07:39.953383",
     "status": "completed"
    },
    "tags": []
   },
   "source": [
    "### **🚛 Months of the Year**"
   ]
  },
  {
   "cell_type": "code",
   "execution_count": 39,
   "id": "31820508",
   "metadata": {
    "execution": {
     "iopub.execute_input": "2024-07-09T02:07:40.046894Z",
     "iopub.status.busy": "2024-07-09T02:07:40.046484Z",
     "iopub.status.idle": "2024-07-09T02:07:40.352959Z",
     "shell.execute_reply": "2024-07-09T02:07:40.351497Z"
    },
    "papermill": {
     "duration": 0.341464,
     "end_time": "2024-07-09T02:07:40.355654",
     "exception": false,
     "start_time": "2024-07-09T02:07:40.014190",
     "status": "completed"
    },
    "tags": []
   },
   "outputs": [
    {
     "data": {
      "image/png": "[encoded data removed]",
      "text/plain": [
       "<Figure size 1000x500 with 1 Axes>"
      ]
     },
     "metadata": {},
     "output_type": "display_data"
    }
   ],
   "source": [
    "plt.figure(figsize=(10, 5))\n",
    "sns.countplot(x='month', data=df, palette='coolwarm')\n",
    "plt.title('Count Plot of Month')\n",
    "plt.xlabel('Month')\n",
    "plt.ylabel('Count')\n",
    "plt.ylim(14000, 20000)\n",
    "plt.xticks(range(12))\n",
    "plt.show()"
   ]
  },
  {
   "cell_type": "code",
   "execution_count": 40,
   "id": "9289e151",
   "metadata": {
    "execution": {
     "iopub.execute_input": "2024-07-09T02:07:40.419450Z",
     "iopub.status.busy": "2024-07-09T02:07:40.419069Z",
     "iopub.status.idle": "2024-07-09T02:07:40.551840Z",
     "shell.execute_reply": "2024-07-09T02:07:40.550819Z"
    },
    "papermill": {
     "duration": 0.167483,
     "end_time": "2024-07-09T02:07:40.554413",
     "exception": false,
     "start_time": "2024-07-09T02:07:40.386930",
     "status": "completed"
    },
    "tags": []
   },
   "outputs": [
    {
     "data": {
      "text/html": [
       "<div>\n",
       "<style scoped>\n",
       "    .dataframe tbody tr th:only-of-type {\n",
       "        vertical-align: middle;\n",
       "    }\n",
       "\n",
       "    .dataframe tbody tr th {\n",
       "        vertical-align: top;\n",
       "    }\n",
       "\n",
       "    .dataframe thead th {\n",
       "        text-align: right;\n",
       "    }\n",
       "</style>\n",
       "<table border=\"1\" class=\"dataframe\">\n",
       "  <thead>\n",
       "    <tr style=\"text-align: right;\">\n",
       "      <th></th>\n",
       "      <th>year</th>\n",
       "      <th>passenger_count</th>\n",
       "      <th>pickup</th>\n",
       "      <th>dropoff</th>\n",
       "      <th>distance</th>\n",
       "      <th>fare_amount</th>\n",
       "      <th>time</th>\n",
       "      <th>weekend</th>\n",
       "      <th>tri_monthly</th>\n",
       "      <th>year_quater</th>\n",
       "    </tr>\n",
       "  </thead>\n",
       "  <tbody>\n",
       "    <tr>\n",
       "      <th>0</th>\n",
       "      <td>2015</td>\n",
       "      <td>1</td>\n",
       "      <td>1.168009e+09</td>\n",
       "      <td>1.168009e+09</td>\n",
       "      <td>1.683323</td>\n",
       "      <td>7.5</td>\n",
       "      <td>Evening</td>\n",
       "      <td>0</td>\n",
       "      <td>Early</td>\n",
       "      <td>2</td>\n",
       "    </tr>\n",
       "    <tr>\n",
       "      <th>1</th>\n",
       "      <td>2009</td>\n",
       "      <td>1</td>\n",
       "      <td>1.169009e+09</td>\n",
       "      <td>1.169009e+09</td>\n",
       "      <td>2.457590</td>\n",
       "      <td>7.7</td>\n",
       "      <td>Evening</td>\n",
       "      <td>1</td>\n",
       "      <td>Middle</td>\n",
       "      <td>3</td>\n",
       "    </tr>\n",
       "    <tr>\n",
       "      <th>2</th>\n",
       "      <td>2009</td>\n",
       "      <td>1</td>\n",
       "      <td>1.168009e+09</td>\n",
       "      <td>1.175009e+09</td>\n",
       "      <td>5.036377</td>\n",
       "      <td>12.9</td>\n",
       "      <td>Evening</td>\n",
       "      <td>0</td>\n",
       "      <td>End</td>\n",
       "      <td>3</td>\n",
       "    </tr>\n",
       "    <tr>\n",
       "      <th>3</th>\n",
       "      <td>2009</td>\n",
       "      <td>3</td>\n",
       "      <td>1.172009e+09</td>\n",
       "      <td>1.174009e+09</td>\n",
       "      <td>1.661683</td>\n",
       "      <td>5.3</td>\n",
       "      <td>Morning</td>\n",
       "      <td>1</td>\n",
       "      <td>End</td>\n",
       "      <td>2</td>\n",
       "    </tr>\n",
       "    <tr>\n",
       "      <th>4</th>\n",
       "      <td>2014</td>\n",
       "      <td>5</td>\n",
       "      <td>1.180009e+09</td>\n",
       "      <td>1.173009e+09</td>\n",
       "      <td>4.115803</td>\n",
       "      <td>16.0</td>\n",
       "      <td>Evening</td>\n",
       "      <td>0</td>\n",
       "      <td>End</td>\n",
       "      <td>3</td>\n",
       "    </tr>\n",
       "  </tbody>\n",
       "</table>\n",
       "</div>"
      ],
      "text/plain": [
       "   year  passenger_count        pickup       dropoff  distance  fare_amount  \\\n",
       "0  2015                1  1.168009e+09  1.168009e+09  1.683323          7.5   \n",
       "1  2009                1  1.169009e+09  1.169009e+09  2.457590          7.7   \n",
       "2  2009                1  1.168009e+09  1.175009e+09  5.036377         12.9   \n",
       "3  2009                3  1.172009e+09  1.174009e+09  1.661683          5.3   \n",
       "4  2014                5  1.180009e+09  1.173009e+09  4.115803         16.0   \n",
       "\n",
       "      time  weekend tri_monthly  year_quater  \n",
       "0  Evening        0       Early            2  \n",
       "1  Evening        1      Middle            3  \n",
       "2  Evening        0         End            3  \n",
       "3  Morning        1         End            2  \n",
       "4  Evening        0         End            3  "
      ]
     },
     "execution_count": 40,
     "metadata": {},
     "output_type": "execute_result"
    }
   ],
   "source": [
    "# function to categorize month of the year\n",
    "def categorize_month(month):\n",
    "    if 1 <= month <= 3:\n",
    "        return 1\n",
    "    elif 4 <= month <= 6:\n",
    "        return 2\n",
    "    elif 7 <= month <= 9:\n",
    "        return 3\n",
    "    elif 10 <= month <= 12:\n",
    "        return 4\n",
    "    \n",
    "# apply the function to create a new column 'time_of_day'\n",
    "df['year_quater'] = df['month'].apply(categorize_month)\n",
    "df = df.drop('month', axis = 1)\n",
    "\n",
    "df.head()"
   ]
  },
  {
   "cell_type": "code",
   "execution_count": 41,
   "id": "acfaca63",
   "metadata": {
    "execution": {
     "iopub.execute_input": "2024-07-09T02:07:40.624316Z",
     "iopub.status.busy": "2024-07-09T02:07:40.623941Z",
     "iopub.status.idle": "2024-07-09T02:07:40.894796Z",
     "shell.execute_reply": "2024-07-09T02:07:40.893496Z"
    },
    "papermill": {
     "duration": 0.3079,
     "end_time": "2024-07-09T02:07:40.897500",
     "exception": false,
     "start_time": "2024-07-09T02:07:40.589600",
     "status": "completed"
    },
    "tags": []
   },
   "outputs": [
    {
     "data": {
      "image/png": "[encoded data removed]",
      "text/plain": [
       "<Figure size 800x500 with 1 Axes>"
      ]
     },
     "metadata": {},
     "output_type": "display_data"
    }
   ],
   "source": [
    "# Create the count plot for the hour\n",
    "plt.figure(figsize=(8, 5))\n",
    "sns.countplot(x='year_quater', data=df, palette='coolwarm')\n",
    "plt.title('Count Plot of Month')\n",
    "plt.xlabel('Month')\n",
    "plt.ylabel('Count')\n",
    "plt.ylim(40000, 60000)\n",
    "plt.xticks(range(4))\n",
    "plt.show()"
   ]
  },
  {
   "cell_type": "code",
   "execution_count": 42,
   "id": "d26df470",
   "metadata": {
    "execution": {
     "iopub.execute_input": "2024-07-09T02:07:40.963887Z",
     "iopub.status.busy": "2024-07-09T02:07:40.963494Z",
     "iopub.status.idle": "2024-07-09T02:07:40.995495Z",
     "shell.execute_reply": "2024-07-09T02:07:40.994383Z"
    },
    "papermill": {
     "duration": 0.068378,
     "end_time": "2024-07-09T02:07:40.997906",
     "exception": false,
     "start_time": "2024-07-09T02:07:40.929528",
     "status": "completed"
    },
    "tags": []
   },
   "outputs": [
    {
     "data": {
      "text/html": [
       "<div>\n",
       "<style scoped>\n",
       "    .dataframe tbody tr th:only-of-type {\n",
       "        vertical-align: middle;\n",
       "    }\n",
       "\n",
       "    .dataframe tbody tr th {\n",
       "        vertical-align: top;\n",
       "    }\n",
       "\n",
       "    .dataframe thead th {\n",
       "        text-align: right;\n",
       "    }\n",
       "</style>\n",
       "<table border=\"1\" class=\"dataframe\">\n",
       "  <thead>\n",
       "    <tr style=\"text-align: right;\">\n",
       "      <th></th>\n",
       "      <th>year</th>\n",
       "      <th>passenger_count</th>\n",
       "      <th>pickup</th>\n",
       "      <th>dropoff</th>\n",
       "      <th>time</th>\n",
       "      <th>weekend</th>\n",
       "      <th>year_quater</th>\n",
       "      <th>tri_monthly</th>\n",
       "      <th>distance</th>\n",
       "      <th>fare_amount</th>\n",
       "    </tr>\n",
       "  </thead>\n",
       "  <tbody>\n",
       "    <tr>\n",
       "      <th>0</th>\n",
       "      <td>2015</td>\n",
       "      <td>1</td>\n",
       "      <td>1.168009e+09</td>\n",
       "      <td>1.168009e+09</td>\n",
       "      <td>Evening</td>\n",
       "      <td>0</td>\n",
       "      <td>2</td>\n",
       "      <td>Early</td>\n",
       "      <td>1.683323</td>\n",
       "      <td>7.5</td>\n",
       "    </tr>\n",
       "    <tr>\n",
       "      <th>1</th>\n",
       "      <td>2009</td>\n",
       "      <td>1</td>\n",
       "      <td>1.169009e+09</td>\n",
       "      <td>1.169009e+09</td>\n",
       "      <td>Evening</td>\n",
       "      <td>1</td>\n",
       "      <td>3</td>\n",
       "      <td>Middle</td>\n",
       "      <td>2.457590</td>\n",
       "      <td>7.7</td>\n",
       "    </tr>\n",
       "    <tr>\n",
       "      <th>2</th>\n",
       "      <td>2009</td>\n",
       "      <td>1</td>\n",
       "      <td>1.168009e+09</td>\n",
       "      <td>1.175009e+09</td>\n",
       "      <td>Evening</td>\n",
       "      <td>0</td>\n",
       "      <td>3</td>\n",
       "      <td>End</td>\n",
       "      <td>5.036377</td>\n",
       "      <td>12.9</td>\n",
       "    </tr>\n",
       "    <tr>\n",
       "      <th>3</th>\n",
       "      <td>2009</td>\n",
       "      <td>3</td>\n",
       "      <td>1.172009e+09</td>\n",
       "      <td>1.174009e+09</td>\n",
       "      <td>Morning</td>\n",
       "      <td>1</td>\n",
       "      <td>2</td>\n",
       "      <td>End</td>\n",
       "      <td>1.661683</td>\n",
       "      <td>5.3</td>\n",
       "    </tr>\n",
       "    <tr>\n",
       "      <th>4</th>\n",
       "      <td>2014</td>\n",
       "      <td>5</td>\n",
       "      <td>1.180009e+09</td>\n",
       "      <td>1.173009e+09</td>\n",
       "      <td>Evening</td>\n",
       "      <td>0</td>\n",
       "      <td>3</td>\n",
       "      <td>End</td>\n",
       "      <td>4.115803</td>\n",
       "      <td>16.0</td>\n",
       "    </tr>\n",
       "  </tbody>\n",
       "</table>\n",
       "</div>"
      ],
      "text/plain": [
       "   year  passenger_count        pickup       dropoff     time  weekend  \\\n",
       "0  2015                1  1.168009e+09  1.168009e+09  Evening        0   \n",
       "1  2009                1  1.169009e+09  1.169009e+09  Evening        1   \n",
       "2  2009                1  1.168009e+09  1.175009e+09  Evening        0   \n",
       "3  2009                3  1.172009e+09  1.174009e+09  Morning        1   \n",
       "4  2014                5  1.180009e+09  1.173009e+09  Evening        0   \n",
       "\n",
       "   year_quater tri_monthly  distance  fare_amount  \n",
       "0            2       Early  1.683323          7.5  \n",
       "1            3      Middle  2.457590          7.7  \n",
       "2            3         End  5.036377         12.9  \n",
       "3            2         End  1.661683          5.3  \n",
       "4            3         End  4.115803         16.0  "
      ]
     },
     "execution_count": 42,
     "metadata": {},
     "output_type": "execute_result"
    }
   ],
   "source": [
    "df = df[['year', 'passenger_count', 'pickup', 'dropoff', 'time', 'weekend', 'year_quater', 'tri_monthly', 'distance', 'fare_amount']]\n",
    "\n",
    "df.head()"
   ]
  },
  {
   "cell_type": "markdown",
   "id": "19193bb4",
   "metadata": {
    "papermill": {
     "duration": 0.032552,
     "end_time": "2024-07-09T02:07:41.062859",
     "exception": false,
     "start_time": "2024-07-09T02:07:41.030307",
     "status": "completed"
    },
    "tags": []
   },
   "source": [
    "### **🗻 Defining Categorical and Numerical Features**"
   ]
  },
  {
   "cell_type": "code",
   "execution_count": 43,
   "id": "6884a792",
   "metadata": {
    "execution": {
     "iopub.execute_input": "2024-07-09T02:07:41.128896Z",
     "iopub.status.busy": "2024-07-09T02:07:41.128478Z",
     "iopub.status.idle": "2024-07-09T02:07:41.133689Z",
     "shell.execute_reply": "2024-07-09T02:07:41.132595Z"
    },
    "papermill": {
     "duration": 0.040734,
     "end_time": "2024-07-09T02:07:41.135877",
     "exception": false,
     "start_time": "2024-07-09T02:07:41.095143",
     "status": "completed"
    },
    "tags": []
   },
   "outputs": [],
   "source": [
    "cat_col = ['year', 'passenger_count', 'pickup', 'dropoff', 'time', 'weekend', 'year_quater', 'tri_monthly']\n",
    "num_col = ['distance']"
   ]
  },
  {
   "cell_type": "markdown",
   "id": "81ddd36c",
   "metadata": {
    "papermill": {
     "duration": 0.035046,
     "end_time": "2024-07-09T02:07:41.203252",
     "exception": false,
     "start_time": "2024-07-09T02:07:41.168206",
     "status": "completed"
    },
    "tags": []
   },
   "source": [
    "- Encoding `categorical` values"
   ]
  },
  {
   "cell_type": "code",
   "execution_count": 44,
   "id": "e48f3cad",
   "metadata": {
    "execution": {
     "iopub.execute_input": "2024-07-09T02:07:41.334553Z",
     "iopub.status.busy": "2024-07-09T02:07:41.334127Z",
     "iopub.status.idle": "2024-07-09T02:07:41.697864Z",
     "shell.execute_reply": "2024-07-09T02:07:41.696675Z"
    },
    "papermill": {
     "duration": 0.399575,
     "end_time": "2024-07-09T02:07:41.700462",
     "exception": false,
     "start_time": "2024-07-09T02:07:41.300887",
     "status": "completed"
    },
    "tags": []
   },
   "outputs": [
    {
     "data": {
      "text/html": [
       "<div>\n",
       "<style scoped>\n",
       "    .dataframe tbody tr th:only-of-type {\n",
       "        vertical-align: middle;\n",
       "    }\n",
       "\n",
       "    .dataframe tbody tr th {\n",
       "        vertical-align: top;\n",
       "    }\n",
       "\n",
       "    .dataframe thead th {\n",
       "        text-align: right;\n",
       "    }\n",
       "</style>\n",
       "<table border=\"1\" class=\"dataframe\">\n",
       "  <thead>\n",
       "    <tr style=\"text-align: right;\">\n",
       "      <th></th>\n",
       "      <th>year</th>\n",
       "      <th>passenger_count</th>\n",
       "      <th>pickup</th>\n",
       "      <th>dropoff</th>\n",
       "      <th>time</th>\n",
       "      <th>weekend</th>\n",
       "      <th>year_quater</th>\n",
       "      <th>tri_monthly</th>\n",
       "      <th>distance</th>\n",
       "      <th>fare_amount</th>\n",
       "    </tr>\n",
       "  </thead>\n",
       "  <tbody>\n",
       "    <tr>\n",
       "      <th>0</th>\n",
       "      <td>6</td>\n",
       "      <td>1</td>\n",
       "      <td>115</td>\n",
       "      <td>121</td>\n",
       "      <td>2</td>\n",
       "      <td>0</td>\n",
       "      <td>1</td>\n",
       "      <td>0</td>\n",
       "      <td>1.683323</td>\n",
       "      <td>7.5</td>\n",
       "    </tr>\n",
       "    <tr>\n",
       "      <th>1</th>\n",
       "      <td>0</td>\n",
       "      <td>1</td>\n",
       "      <td>137</td>\n",
       "      <td>153</td>\n",
       "      <td>2</td>\n",
       "      <td>1</td>\n",
       "      <td>2</td>\n",
       "      <td>2</td>\n",
       "      <td>2.457590</td>\n",
       "      <td>7.7</td>\n",
       "    </tr>\n",
       "    <tr>\n",
       "      <th>2</th>\n",
       "      <td>0</td>\n",
       "      <td>1</td>\n",
       "      <td>115</td>\n",
       "      <td>332</td>\n",
       "      <td>2</td>\n",
       "      <td>0</td>\n",
       "      <td>2</td>\n",
       "      <td>1</td>\n",
       "      <td>5.036377</td>\n",
       "      <td>12.9</td>\n",
       "    </tr>\n",
       "    <tr>\n",
       "      <th>3</th>\n",
       "      <td>0</td>\n",
       "      <td>3</td>\n",
       "      <td>229</td>\n",
       "      <td>307</td>\n",
       "      <td>4</td>\n",
       "      <td>1</td>\n",
       "      <td>1</td>\n",
       "      <td>1</td>\n",
       "      <td>1.661683</td>\n",
       "      <td>5.3</td>\n",
       "    </tr>\n",
       "    <tr>\n",
       "      <th>4</th>\n",
       "      <td>5</td>\n",
       "      <td>5</td>\n",
       "      <td>453</td>\n",
       "      <td>268</td>\n",
       "      <td>2</td>\n",
       "      <td>0</td>\n",
       "      <td>2</td>\n",
       "      <td>1</td>\n",
       "      <td>4.115803</td>\n",
       "      <td>16.0</td>\n",
       "    </tr>\n",
       "  </tbody>\n",
       "</table>\n",
       "</div>"
      ],
      "text/plain": [
       "   year  passenger_count  pickup  dropoff  time  weekend  year_quater  \\\n",
       "0     6                1     115      121     2        0            1   \n",
       "1     0                1     137      153     2        1            2   \n",
       "2     0                1     115      332     2        0            2   \n",
       "3     0                3     229      307     4        1            1   \n",
       "4     5                5     453      268     2        0            2   \n",
       "\n",
       "   tri_monthly  distance  fare_amount  \n",
       "0            0  1.683323          7.5  \n",
       "1            2  2.457590          7.7  \n",
       "2            1  5.036377         12.9  \n",
       "3            1  1.661683          5.3  \n",
       "4            1  4.115803         16.0  "
      ]
     },
     "execution_count": 44,
     "metadata": {},
     "output_type": "execute_result"
    }
   ],
   "source": [
    "from sklearn.preprocessing import LabelEncoder\n",
    "\n",
    "encoders = {}  # Dictionary to save the encoders\n",
    "\n",
    "for col in cat_col:\n",
    "    encoder = LabelEncoder()\n",
    "    df[col] = encoder.fit_transform(df[col])\n",
    "    encoders[col] = encoder\n",
    "\n",
    "df.head()"
   ]
  },
  {
   "cell_type": "markdown",
   "id": "1b4cb481",
   "metadata": {
    "papermill": {
     "duration": 0.031696,
     "end_time": "2024-07-09T02:07:41.764462",
     "exception": false,
     "start_time": "2024-07-09T02:07:41.732766",
     "status": "completed"
    },
    "tags": []
   },
   "source": [
    "- Standardizing `numerical` values"
   ]
  },
  {
   "cell_type": "code",
   "execution_count": 45,
   "id": "2a6ac104",
   "metadata": {
    "execution": {
     "iopub.execute_input": "2024-07-09T02:07:41.897938Z",
     "iopub.status.busy": "2024-07-09T02:07:41.897493Z",
     "iopub.status.idle": "2024-07-09T02:07:41.920143Z",
     "shell.execute_reply": "2024-07-09T02:07:41.918917Z"
    },
    "papermill": {
     "duration": 0.059393,
     "end_time": "2024-07-09T02:07:41.922869",
     "exception": false,
     "start_time": "2024-07-09T02:07:41.863476",
     "status": "completed"
    },
    "tags": []
   },
   "outputs": [
    {
     "data": {
      "text/html": [
       "<div>\n",
       "<style scoped>\n",
       "    .dataframe tbody tr th:only-of-type {\n",
       "        vertical-align: middle;\n",
       "    }\n",
       "\n",
       "    .dataframe tbody tr th {\n",
       "        vertical-align: top;\n",
       "    }\n",
       "\n",
       "    .dataframe thead th {\n",
       "        text-align: right;\n",
       "    }\n",
       "</style>\n",
       "<table border=\"1\" class=\"dataframe\">\n",
       "  <thead>\n",
       "    <tr style=\"text-align: right;\">\n",
       "      <th></th>\n",
       "      <th>year</th>\n",
       "      <th>passenger_count</th>\n",
       "      <th>pickup</th>\n",
       "      <th>dropoff</th>\n",
       "      <th>time</th>\n",
       "      <th>weekend</th>\n",
       "      <th>year_quater</th>\n",
       "      <th>tri_monthly</th>\n",
       "      <th>distance</th>\n",
       "      <th>fare_amount</th>\n",
       "    </tr>\n",
       "  </thead>\n",
       "  <tbody>\n",
       "    <tr>\n",
       "      <th>0</th>\n",
       "      <td>6</td>\n",
       "      <td>1</td>\n",
       "      <td>115</td>\n",
       "      <td>121</td>\n",
       "      <td>2</td>\n",
       "      <td>0</td>\n",
       "      <td>1</td>\n",
       "      <td>0</td>\n",
       "      <td>-0.519210</td>\n",
       "      <td>7.5</td>\n",
       "    </tr>\n",
       "    <tr>\n",
       "      <th>1</th>\n",
       "      <td>0</td>\n",
       "      <td>1</td>\n",
       "      <td>137</td>\n",
       "      <td>153</td>\n",
       "      <td>2</td>\n",
       "      <td>1</td>\n",
       "      <td>2</td>\n",
       "      <td>2</td>\n",
       "      <td>-0.126730</td>\n",
       "      <td>7.7</td>\n",
       "    </tr>\n",
       "    <tr>\n",
       "      <th>2</th>\n",
       "      <td>0</td>\n",
       "      <td>1</td>\n",
       "      <td>115</td>\n",
       "      <td>332</td>\n",
       "      <td>2</td>\n",
       "      <td>0</td>\n",
       "      <td>2</td>\n",
       "      <td>1</td>\n",
       "      <td>1.180469</td>\n",
       "      <td>12.9</td>\n",
       "    </tr>\n",
       "    <tr>\n",
       "      <th>3</th>\n",
       "      <td>0</td>\n",
       "      <td>3</td>\n",
       "      <td>229</td>\n",
       "      <td>307</td>\n",
       "      <td>4</td>\n",
       "      <td>1</td>\n",
       "      <td>1</td>\n",
       "      <td>1</td>\n",
       "      <td>-0.530179</td>\n",
       "      <td>5.3</td>\n",
       "    </tr>\n",
       "    <tr>\n",
       "      <th>4</th>\n",
       "      <td>5</td>\n",
       "      <td>5</td>\n",
       "      <td>453</td>\n",
       "      <td>268</td>\n",
       "      <td>2</td>\n",
       "      <td>0</td>\n",
       "      <td>2</td>\n",
       "      <td>1</td>\n",
       "      <td>0.713825</td>\n",
       "      <td>16.0</td>\n",
       "    </tr>\n",
       "  </tbody>\n",
       "</table>\n",
       "</div>"
      ],
      "text/plain": [
       "   year  passenger_count  pickup  dropoff  time  weekend  year_quater  \\\n",
       "0     6                1     115      121     2        0            1   \n",
       "1     0                1     137      153     2        1            2   \n",
       "2     0                1     115      332     2        0            2   \n",
       "3     0                3     229      307     4        1            1   \n",
       "4     5                5     453      268     2        0            2   \n",
       "\n",
       "   tri_monthly  distance  fare_amount  \n",
       "0            0 -0.519210          7.5  \n",
       "1            2 -0.126730          7.7  \n",
       "2            1  1.180469         12.9  \n",
       "3            1 -0.530179          5.3  \n",
       "4            1  0.713825         16.0  "
      ]
     },
     "execution_count": 45,
     "metadata": {},
     "output_type": "execute_result"
    }
   ],
   "source": [
    "# Standardizing Numerical Data with Standard Scaler\n",
    "from sklearn.preprocessing import StandardScaler\n",
    "\n",
    "scalers = {}  # Dictionary to save the scalers\n",
    "\n",
    "for column in num_col:\n",
    "    scaler = StandardScaler()\n",
    "    df[column] = scaler.fit_transform(df[[column]])\n",
    "    scalers[column] = scaler\n",
    "\n",
    "df.head()"
   ]
  },
  {
   "cell_type": "code",
   "execution_count": 46,
   "id": "55ab5794",
   "metadata": {
    "execution": {
     "iopub.execute_input": "2024-07-09T02:07:42.057323Z",
     "iopub.status.busy": "2024-07-09T02:07:42.056450Z",
     "iopub.status.idle": "2024-07-09T02:07:42.078372Z",
     "shell.execute_reply": "2024-07-09T02:07:42.077481Z"
    },
    "papermill": {
     "duration": 0.058925,
     "end_time": "2024-07-09T02:07:42.081013",
     "exception": false,
     "start_time": "2024-07-09T02:07:42.022088",
     "status": "completed"
    },
    "tags": []
   },
   "outputs": [],
   "source": [
    "# selecting features and target\n",
    "X = df.drop('fare_amount', axis=1)\n",
    "y = df['fare_amount']"
   ]
  },
  {
   "cell_type": "code",
   "execution_count": 47,
   "id": "fcd1fa4e",
   "metadata": {
    "execution": {
     "iopub.execute_input": "2024-07-09T02:07:42.147390Z",
     "iopub.status.busy": "2024-07-09T02:07:42.146981Z",
     "iopub.status.idle": "2024-07-09T02:07:42.316172Z",
     "shell.execute_reply": "2024-07-09T02:07:42.314993Z"
    },
    "papermill": {
     "duration": 0.205372,
     "end_time": "2024-07-09T02:07:42.318848",
     "exception": false,
     "start_time": "2024-07-09T02:07:42.113476",
     "status": "completed"
    },
    "tags": []
   },
   "outputs": [],
   "source": [
    "# splitting data into train and test data\n",
    "from sklearn.model_selection import train_test_split\n",
    "X_train, X_test, y_train, y_test = train_test_split(X, y, test_size=0.2, random_state=42)"
   ]
  },
  {
   "cell_type": "markdown",
   "id": "baa4c10a",
   "metadata": {
    "papermill": {
     "duration": 0.03203,
     "end_time": "2024-07-09T02:07:42.447724",
     "exception": false,
     "start_time": "2024-07-09T02:07:42.415694",
     "status": "completed"
    },
    "tags": []
   },
   "source": [
    "## **↖ Linear Regression**"
   ]
  },
  {
   "cell_type": "code",
   "execution_count": 48,
   "id": "1ef69e5b",
   "metadata": {
    "execution": {
     "iopub.execute_input": "2024-07-09T02:07:42.514857Z",
     "iopub.status.busy": "2024-07-09T02:07:42.514020Z",
     "iopub.status.idle": "2024-07-09T02:07:42.735292Z",
     "shell.execute_reply": "2024-07-09T02:07:42.734232Z"
    },
    "papermill": {
     "duration": 0.258208,
     "end_time": "2024-07-09T02:07:42.738406",
     "exception": false,
     "start_time": "2024-07-09T02:07:42.480198",
     "status": "completed"
    },
    "tags": []
   },
   "outputs": [
    {
     "name": "stdout",
     "output_type": "stream",
     "text": [
      "Linear Regression Results:\n",
      "Mean Absolute Error: 2.0895010797254336\n",
      "Mean Squared Error: 9.569827032241625\n",
      "Root Mean Squared Error: 3.0935137032574502\n",
      "R-squared: 0.6731267377727418\n"
     ]
    }
   ],
   "source": [
    "from sklearn.linear_model import LinearRegression\n",
    "from sklearn.metrics import mean_absolute_error, mean_squared_error, r2_score\n",
    "\n",
    "# Initialize the Linear Regression model\n",
    "linear_model = LinearRegression()\n",
    "\n",
    "# Train the model\n",
    "linear_model.fit(X_train, y_train)\n",
    "\n",
    "# Predict on the test set\n",
    "y_pred_linear = linear_model.predict(X_test)\n",
    "\n",
    "# Evaluate the model\n",
    "mae_linear = mean_absolute_error(y_test, y_pred_linear)\n",
    "mse_linear = mean_squared_error(y_test, y_pred_linear)\n",
    "rmse_linear = np.sqrt(mse_linear)\n",
    "r2_linear = r2_score(y_test, y_pred_linear)\n",
    "\n",
    "print(f'Linear Regression Results:')\n",
    "print(f'Mean Absolute Error: {mae_linear}')\n",
    "print(f'Mean Squared Error: {mse_linear}')\n",
    "print(f'Root Mean Squared Error: {rmse_linear}')\n",
    "print(f'R-squared: {r2_linear}')"
   ]
  },
  {
   "cell_type": "markdown",
   "id": "2aa346ff",
   "metadata": {
    "papermill": {
     "duration": 0.036817,
     "end_time": "2024-07-09T02:07:42.870185",
     "exception": false,
     "start_time": "2024-07-09T02:07:42.833368",
     "status": "completed"
    },
    "tags": []
   },
   "source": [
    "## **🎏 XG Boost Regressor**"
   ]
  },
  {
   "cell_type": "code",
   "execution_count": 49,
   "id": "4a2ca0e6",
   "metadata": {
    "execution": {
     "iopub.execute_input": "2024-07-09T02:07:42.939207Z",
     "iopub.status.busy": "2024-07-09T02:07:42.938728Z",
     "iopub.status.idle": "2024-07-09T02:07:44.011210Z",
     "shell.execute_reply": "2024-07-09T02:07:44.010060Z"
    },
    "papermill": {
     "duration": 1.111052,
     "end_time": "2024-07-09T02:07:44.013951",
     "exception": false,
     "start_time": "2024-07-09T02:07:42.902899",
     "status": "completed"
    },
    "tags": []
   },
   "outputs": [
    {
     "name": "stdout",
     "output_type": "stream",
     "text": [
      "Requirement already satisfied: xgboost in d:\\users\\manis\\anaconda3\\lib\\site-packages (3.0.4)\n",
      "Requirement already satisfied: numpy in d:\\users\\manis\\anaconda3\\lib\\site-packages (from xgboost) (1.26.4)\n",
      "Requirement already satisfied: scipy in d:\\users\\manis\\anaconda3\\lib\\site-packages (from xgboost) (1.13.1)\n",
      "Note: you may need to restart the kernel to use updated packages.\n",
      "XGBoost Regressor Results:\n",
      "Mean Absolute Error: 1.5683862765535894\n",
      "Mean Squared Error: 6.130989167998953\n",
      "Root Mean Squared Error: 2.4760834331659654\n",
      "R-squared: 0.7905859297903763\n"
     ]
    }
   ],
   "source": [
    "%pip install xgboost\n",
    "\n",
    "import xgboost as xgb\n",
    "\n",
    "# Train the XGBoost Regressor model\n",
    "xgb_model = xgb.XGBRegressor()\n",
    "xgb_model.fit(X_train, y_train)\n",
    "\n",
    "# Predict on the test set\n",
    "y_pred_xgb = xgb_model.predict(X_test)\n",
    "\n",
    "# Evaluate the model\n",
    "mae_xgb = mean_absolute_error(y_test, y_pred_xgb)\n",
    "mse_xgb = mean_squared_error(y_test, y_pred_xgb)\n",
    "rmse_xgb = np.sqrt(mse_xgb)\n",
    "r2_xgb = r2_score(y_test, y_pred_xgb)\n",
    "\n",
    "print(f'XGBoost Regressor Results:')\n",
    "print(f'Mean Absolute Error: {mae_xgb}')\n",
    "print(f'Mean Squared Error: {mse_xgb}')\n",
    "print(f'Root Mean Squared Error: {rmse_xgb}')\n",
    "print(f'R-squared: {r2_xgb}')"
   ]
  },
  {
   "cell_type": "markdown",
   "id": "7e23d363",
   "metadata": {
    "papermill": {
     "duration": 0.033247,
     "end_time": "2024-07-09T02:09:24.250401",
     "exception": false,
     "start_time": "2024-07-09T02:09:24.217154",
     "status": "completed"
    },
    "tags": []
   },
   "source": [
    "## **🏎 Gradient Boosting Regressor**"
   ]
  },
  {
   "cell_type": "code",
   "execution_count": 50,
   "id": "25f73d0c",
   "metadata": {
    "execution": {
     "iopub.execute_input": "2024-07-09T02:09:24.319267Z",
     "iopub.status.busy": "2024-07-09T02:09:24.318705Z",
     "iopub.status.idle": "2024-07-09T02:09:46.749870Z",
     "shell.execute_reply": "2024-07-09T02:09:46.748463Z"
    },
    "papermill": {
     "duration": 22.468421,
     "end_time": "2024-07-09T02:09:46.752481",
     "exception": false,
     "start_time": "2024-07-09T02:09:24.284060",
     "status": "completed"
    },
    "tags": []
   },
   "outputs": [
    {
     "name": "stdout",
     "output_type": "stream",
     "text": [
      "Gradient Boosting Regressor Results:\n",
      "Mean Absolute Error: 1.7486429702096085\n",
      "Mean Squared Error: 6.984808388587097\n",
      "Root Mean Squared Error: 2.642878807018418\n",
      "R-squared: 0.7614223228572835\n"
     ]
    }
   ],
   "source": [
    "from sklearn.ensemble import GradientBoostingRegressor\n",
    "\n",
    "# Train the GradientBoostingRegressor model\n",
    "gbr_model = GradientBoostingRegressor()\n",
    "gbr_model.fit(X_train, y_train)\n",
    "\n",
    "# Predict on the test set\n",
    "y_pred_gbr = gbr_model.predict(X_test)\n",
    "\n",
    "# Evaluate the model\n",
    "mae_gbr = mean_absolute_error(y_test, y_pred_gbr)\n",
    "mse_gbr = mean_squared_error(y_test, y_pred_gbr)\n",
    "rmse_gbr = np.sqrt(mse_gbr)\n",
    "r2_gbr = r2_score(y_test, y_pred_gbr)\n",
    "\n",
    "print(f'Gradient Boosting Regressor Results:')\n",
    "print(f'Mean Absolute Error: {mae_gbr}')\n",
    "print(f'Mean Squared Error: {mse_gbr}')\n",
    "print(f'Root Mean Squared Error: {rmse_gbr}')\n",
    "print(f'R-squared: {r2_gbr}')"
   ]
  },
  {
   "cell_type": "markdown",
   "id": "b9510827",
   "metadata": {
    "papermill": {
     "duration": 0.033947,
     "end_time": "2024-07-09T02:09:46.820757",
     "exception": false,
     "start_time": "2024-07-09T02:09:46.786810",
     "status": "completed"
    },
    "tags": []
   },
   "source": [
    "## **🌲 Random Forest Regressor**"
   ]
  },
  {
   "cell_type": "code",
   "execution_count": 51,
   "id": "d409cf48",
   "metadata": {
    "execution": {
     "iopub.execute_input": "2024-07-09T02:09:46.894163Z",
     "iopub.status.busy": "2024-07-09T02:09:46.893802Z",
     "iopub.status.idle": "2024-07-09T02:11:25.344018Z",
     "shell.execute_reply": "2024-07-09T02:11:25.342603Z"
    },
    "papermill": {
     "duration": 98.522814,
     "end_time": "2024-07-09T02:11:25.381222",
     "exception": false,
     "start_time": "2024-07-09T02:09:46.858408",
     "status": "completed"
    },
    "tags": []
   },
   "outputs": [
    {
     "name": "stdout",
     "output_type": "stream",
     "text": [
      "Mean Absolute Error: 1.6814217627525225\n",
      "Mean Squared Error: 6.833385195511407\n",
      "Root Mean Squared Error: 2.6140744433759737\n",
      "R-squared: 0.7665944323354132\n"
     ]
    }
   ],
   "source": [
    "from sklearn.ensemble import RandomForestRegressor\n",
    "\n",
    "# Train the RandomForestRegressor model\n",
    "rfr_model = RandomForestRegressor()\n",
    "rfr_model.fit(X_train, y_train)\n",
    "\n",
    "# Predict on the test set\n",
    "y_pred = rfr_model.predict(X_test)\n",
    "\n",
    "# Evaluate the model\n",
    "mae_rfr = mean_absolute_error(y_test, y_pred)\n",
    "mse_rfr = mean_squared_error(y_test, y_pred)\n",
    "rmse_rfr = np.sqrt(mse_rfr)\n",
    "r2_rfr = r2_score(y_test, y_pred)\n",
    "\n",
    "print(f'Mean Absolute Error: {mae_rfr}')\n",
    "print(f'Mean Squared Error: {mse_rfr}')\n",
    "print(f'Root Mean Squared Error: {rmse_rfr}')\n",
    "print(f'R-squared: {r2_rfr}')"
   ]
  },
  {
   "cell_type": "markdown",
   "id": "c16347ea",
   "metadata": {
    "papermill": {
     "duration": 0.032961,
     "end_time": "2024-07-09T02:11:25.447982",
     "exception": false,
     "start_time": "2024-07-09T02:11:25.415021",
     "status": "completed"
    },
    "tags": []
   },
   "source": [
    "# **🎯 Comparing Model Performance**"
   ]
  },
  {
   "cell_type": "code",
   "execution_count": 52,
   "id": "89defaa7",
   "metadata": {
    "execution": {
     "iopub.execute_input": "2024-07-09T02:11:25.518580Z",
     "iopub.status.busy": "2024-07-09T02:11:25.517686Z",
     "iopub.status.idle": "2024-07-09T02:11:25.523667Z",
     "shell.execute_reply": "2024-07-09T02:11:25.522535Z"
    },
    "papermill": {
     "duration": 0.044689,
     "end_time": "2024-07-09T02:11:25.525997",
     "exception": false,
     "start_time": "2024-07-09T02:11:25.481308",
     "status": "completed"
    },
    "tags": []
   },
   "outputs": [],
   "source": [
    "model_mae = {\n",
    "    'Linear Regression' : mae_linear,\n",
    "    'XG Boost Regression' : mae_xgb,\n",
    "    'Gradient Boost Regression' : mae_gbr,\n",
    "    'Random Forest Regression' : mae_rfr,\n",
    "}\n",
    "\n",
    "model_rmse = {\n",
    "    'Linear Regression' : rmse_linear,\n",
    "    'XG Boost Regression' : rmse_xgb,\n",
    "    'Gradient Boost Regression' : rmse_gbr,\n",
    "    'Random Forest Regression' : rmse_rfr,\n",
    "}"
   ]
  },
  {
   "cell_type": "code",
   "execution_count": 53,
   "id": "706676ef",
   "metadata": {
    "execution": {
     "iopub.execute_input": "2024-07-09T02:11:25.595268Z",
     "iopub.status.busy": "2024-07-09T02:11:25.594892Z",
     "iopub.status.idle": "2024-07-09T02:11:26.136070Z",
     "shell.execute_reply": "2024-07-09T02:11:26.134938Z"
    },
    "papermill": {
     "duration": 0.578596,
     "end_time": "2024-07-09T02:11:26.138700",
     "exception": false,
     "start_time": "2024-07-09T02:11:25.560104",
     "status": "completed"
    },
    "tags": []
   },
   "outputs": [
    {
     "data": {
      "image/png": "[encoded data removed]",
      "text/plain": [
       "<Figure size 1400x400 with 2 Axes>"
      ]
     },
     "metadata": {},
     "output_type": "display_data"
    }
   ],
   "source": [
    "# Create a figure with two subplots\n",
    "fig, (ax1, ax2) = plt.subplots(1, 2, figsize=(14, 4))\n",
    "\n",
    "# Plot MAE\n",
    "bars_mae = ax1.barh(list(model_mae.keys()), list(model_mae.values()), color='skyblue')\n",
    "ax1.set_ylabel('Models', fontweight='bold')\n",
    "ax1.set_xlabel('Mean Absolute Error', fontweight='bold')\n",
    "ax1.set_title('Mean Absolute Error of ML Models', fontweight='bold')\n",
    "ax1.set_xlim(1.45, 2.25)\n",
    "for bar in bars_mae:\n",
    "    width = bar.get_width()\n",
    "    ax1.text(width + 0.01, bar.get_y() + bar.get_height()/2, '{:.5f}'.format(round(width, 5)), ha='left', va='center')\n",
    "\n",
    "# Plot RMSE\n",
    "bars_rmse = ax2.barh(list(model_rmse.keys()), list(model_rmse.values()), color='lightcoral')\n",
    "ax2.set_ylabel('Models', fontweight='bold')\n",
    "ax2.set_xlabel('Root Mean Squared Error', fontweight='bold')\n",
    "ax2.set_title('Root Mean Squared Error of ML Models', fontweight='bold')\n",
    "ax2.set_xlim(2.4, 3.25)\n",
    "for bar in bars_rmse:\n",
    "    width = bar.get_width()\n",
    "    ax2.text(width + 0.01, bar.get_y() + bar.get_height()/2, '{:.5f}'.format(round(width, 5)), ha='left', va='center')\n",
    "\n",
    "plt.tight_layout()\n",
    "plt.show()"
   ]
  },
  {
   "cell_type": "code",
   "execution_count": 54,
   "id": "dd4f8c54",
   "metadata": {
    "execution": {
     "iopub.execute_input": "2024-07-09T02:11:26.280898Z",
     "iopub.status.busy": "2024-07-09T02:11:26.280118Z",
     "iopub.status.idle": "2024-07-09T02:11:26.353252Z",
     "shell.execute_reply": "2024-07-09T02:11:26.351865Z"
    },
    "papermill": {
     "duration": 0.111851,
     "end_time": "2024-07-09T02:11:26.355997",
     "exception": false,
     "start_time": "2024-07-09T02:11:26.244146",
     "status": "completed"
    },
    "tags": []
   },
   "outputs": [
    {
     "data": {
      "text/html": [
       "<div>\n",
       "<style scoped>\n",
       "    .dataframe tbody tr th:only-of-type {\n",
       "        vertical-align: middle;\n",
       "    }\n",
       "\n",
       "    .dataframe tbody tr th {\n",
       "        vertical-align: top;\n",
       "    }\n",
       "\n",
       "    .dataframe thead th {\n",
       "        text-align: right;\n",
       "    }\n",
       "</style>\n",
       "<table border=\"1\" class=\"dataframe\">\n",
       "  <thead>\n",
       "    <tr style=\"text-align: right;\">\n",
       "      <th></th>\n",
       "      <th>Actual Fare</th>\n",
       "      <th>Predicted Fare</th>\n",
       "      <th>Max Fare</th>\n",
       "      <th>Min Fare</th>\n",
       "    </tr>\n",
       "  </thead>\n",
       "  <tbody>\n",
       "    <tr>\n",
       "      <th>186639</th>\n",
       "      <td>6.50</td>\n",
       "      <td>7.74</td>\n",
       "      <td>9.31</td>\n",
       "      <td>6.17</td>\n",
       "    </tr>\n",
       "    <tr>\n",
       "      <th>91370</th>\n",
       "      <td>22.25</td>\n",
       "      <td>21.61</td>\n",
       "      <td>23.18</td>\n",
       "      <td>20.04</td>\n",
       "    </tr>\n",
       "    <tr>\n",
       "      <th>95464</th>\n",
       "      <td>7.30</td>\n",
       "      <td>7.37</td>\n",
       "      <td>8.93</td>\n",
       "      <td>5.80</td>\n",
       "    </tr>\n",
       "    <tr>\n",
       "      <th>10326</th>\n",
       "      <td>9.30</td>\n",
       "      <td>8.60</td>\n",
       "      <td>10.18</td>\n",
       "      <td>7.04</td>\n",
       "    </tr>\n",
       "    <tr>\n",
       "      <th>73504</th>\n",
       "      <td>14.00</td>\n",
       "      <td>11.96</td>\n",
       "      <td>13.53</td>\n",
       "      <td>10.39</td>\n",
       "    </tr>\n",
       "    <tr>\n",
       "      <th>157858</th>\n",
       "      <td>4.90</td>\n",
       "      <td>5.26</td>\n",
       "      <td>6.83</td>\n",
       "      <td>3.69</td>\n",
       "    </tr>\n",
       "    <tr>\n",
       "      <th>132356</th>\n",
       "      <td>22.25</td>\n",
       "      <td>19.81</td>\n",
       "      <td>21.38</td>\n",
       "      <td>18.24</td>\n",
       "    </tr>\n",
       "    <tr>\n",
       "      <th>67040</th>\n",
       "      <td>5.30</td>\n",
       "      <td>6.39</td>\n",
       "      <td>7.96</td>\n",
       "      <td>4.82</td>\n",
       "    </tr>\n",
       "    <tr>\n",
       "      <th>192114</th>\n",
       "      <td>11.30</td>\n",
       "      <td>9.10</td>\n",
       "      <td>10.68</td>\n",
       "      <td>7.54</td>\n",
       "    </tr>\n",
       "    <tr>\n",
       "      <th>16801</th>\n",
       "      <td>22.25</td>\n",
       "      <td>18.58</td>\n",
       "      <td>20.15</td>\n",
       "      <td>17.01</td>\n",
       "    </tr>\n",
       "  </tbody>\n",
       "</table>\n",
       "</div>"
      ],
      "text/plain": [
       "        Actual Fare  Predicted Fare  Max Fare  Min Fare\n",
       "186639         6.50            7.74      9.31      6.17\n",
       "91370         22.25           21.61     23.18     20.04\n",
       "95464          7.30            7.37      8.93      5.80\n",
       "10326          9.30            8.60     10.18      7.04\n",
       "73504         14.00           11.96     13.53     10.39\n",
       "157858         4.90            5.26      6.83      3.69\n",
       "132356        22.25           19.81     21.38     18.24\n",
       "67040          5.30            6.39      7.96      4.82\n",
       "192114        11.30            9.10     10.68      7.54\n",
       "16801         22.25           18.58     20.15     17.01"
      ]
     },
     "execution_count": 54,
     "metadata": {},
     "output_type": "execute_result"
    }
   ],
   "source": [
    "# predicting total fare\n",
    "y_pred = xgb_model.predict(X_test)\n",
    "\n",
    "max_fare = y_pred + 1.57\n",
    "min_fare = y_pred - 1.57\n",
    "\n",
    "# creating a dataframe with Actual Fare, Total Fare (↓), and Total Fare (↑)\n",
    "df_combined = pd.DataFrame({\n",
    "    'Actual Fare': y_test,\n",
    "    'Predicted Fare': y_pred,\n",
    "    'Max Fare': max_fare,\n",
    "    'Min Fare': min_fare,\n",
    "})\n",
    "\n",
    "# rounding to 2 decimal places\n",
    "df_combined['Predicted Fare'] = ((100 * df_combined['Predicted Fare'].round(2)).astype(int)) / 100\n",
    "df_combined['Max Fare'] = ((100 * df_combined['Max Fare'].round(2)).astype(int)) / 100\n",
    "df_combined['Min Fare'] = ((100 * df_combined['Min Fare'].round(2)).astype(int)) / 100\n",
    "\n",
    "# displaying the first 10 rows\n",
    "df_combined.head(10)"
   ]
  },
  {
   "cell_type": "markdown",
   "id": "458b1c31",
   "metadata": {
    "papermill": {
     "duration": 0.035032,
     "end_time": "2024-07-09T02:11:26.427779",
     "exception": false,
     "start_time": "2024-07-09T02:11:26.392747",
     "status": "completed"
    },
    "tags": []
   },
   "source": [
    "We have observed that our model delivers reliable fare predictions, even in the absence of **`traffic`** and **`weather`** data. Notably, the **`maximum`** and **`minimum`** fare values derived from our predictions serve as practical and valuable metrics for real-world applications."
   ]
  },
  {
   "cell_type": "markdown",
   "id": "2e256722",
   "metadata": {
    "papermill": {
     "duration": 0.035253,
     "end_time": "2024-07-09T02:11:26.498189",
     "exception": false,
     "start_time": "2024-07-09T02:11:26.462936",
     "status": "completed"
    },
    "tags": []
   },
   "source": [
    "# **⚡ Testing Model for Dynamic Nature**\n",
    "We now check if out entire system can handle the **`dynamic`** nature of pricing system as we had aimed."
   ]
  },
  {
   "cell_type": "markdown",
   "id": "ac48224e",
   "metadata": {
    "papermill": {
     "duration": 0.034534,
     "end_time": "2024-07-09T02:11:26.568110",
     "exception": false,
     "start_time": "2024-07-09T02:11:26.533576",
     "status": "completed"
    },
    "tags": []
   },
   "source": [
    "## **🚠 `Raw Input Format` to `Model Input Format`**"
   ]
  },
  {
   "cell_type": "code",
   "execution_count": 55,
   "id": "742216b0",
   "metadata": {
    "execution": {
     "iopub.execute_input": "2024-07-09T02:11:26.640338Z",
     "iopub.status.busy": "2024-07-09T02:11:26.639956Z",
     "iopub.status.idle": "2024-07-09T02:11:26.655551Z",
     "shell.execute_reply": "2024-07-09T02:11:26.654102Z"
    },
    "papermill": {
     "duration": 0.054887,
     "end_time": "2024-07-09T02:11:26.658282",
     "exception": false,
     "start_time": "2024-07-09T02:11:26.603395",
     "status": "completed"
    },
    "tags": []
   },
   "outputs": [],
   "source": [
    "def preprocess_data(df):\n",
    "    \n",
    "    # drop unrequired columns\n",
    "    df = df.drop(['Unnamed: 0', 'key'], axis=1)\n",
    "    \n",
    "    # parse date time\n",
    "    df['datetime'] = pd.to_datetime(df['pickup_datetime'], utc=True)\n",
    "    df['weekday'] = df['datetime'].dt.weekday\n",
    "    df['date'] = df['datetime'].dt.day\n",
    "    df['month'] = df['datetime'].dt.month\n",
    "    df['year'] = df['datetime'].dt.year\n",
    "    df['hour'] = df['datetime'].dt.hour\n",
    "    df = df.drop(['pickup_datetime', 'datetime'], axis=1)\n",
    "    \n",
    "    # generate distnace\n",
    "    df['distance'] = distance_transform(\n",
    "    df['pickup_longitude'].to_numpy(), \n",
    "    df['pickup_latitude'].to_numpy(),\n",
    "    df['dropoff_longitude'].to_numpy(), \n",
    "    df['dropoff_latitude'].to_numpy())\n",
    "    \n",
    "    # assigning pickup and dropoff box\n",
    "    df['pickup'] = df.apply(lambda row: assign_box(row['pickup_latitude'], row['pickup_longitude'], box_size, pickup_mapping), axis=1)\n",
    "    df['dropoff'] = df.apply(lambda row: assign_box(row['dropoff_latitude'], row['dropoff_longitude'], box_size, dropoff_mapping), axis=1)\n",
    "    df = df.drop(['pickup_longitude', 'pickup_latitude', 'dropoff_longitude', 'dropoff_latitude'], axis = 1)\n",
    "    \n",
    "    # simplifying hours, weekdays, date and months\n",
    "    df['time'] = df['hour'].apply(categorize_hour)\n",
    "    df = df.drop('hour', axis=1)    \n",
    "    df['weekend'] = df['weekday'].isin([4, 5, 6]).astype(int)\n",
    "    df = df.drop('weekday', axis=1)\n",
    "    df['tri_monthly'] = df['date'].apply(categorize_date)\n",
    "    df = df.drop('date', axis=1)    \n",
    "    df['year_quater'] = df['month'].apply(categorize_month)\n",
    "    df = df.drop('month', axis = 1)\n",
    "    \n",
    "    # encoding categorical columns\n",
    "    for col, encoder in encoders.items():\n",
    "        if col in df.columns:\n",
    "            if col in ['year', 'passenger_count', 'pickup', 'dropoff']:\n",
    "                df[col] = df[col].apply(lambda x: encoder.transform([x])[0] if x in encoder.classes_ else len(encoder.classes_))\n",
    "            else:\n",
    "                df[col] = df[col].apply(lambda x: encoder.transform([x])[0] if x in encoder.classes_ else None)\n",
    "\n",
    "            \n",
    "    # standardizing numerical columns\n",
    "    for column, scaler in scalers.items():\n",
    "        if col in num_col:\n",
    "            df[col] = scaler.transform(df[[column]])\n",
    "            \n",
    "    df = df[['year', 'passenger_count', 'pickup', 'dropoff', 'time', 'weekend', 'year_quater', 'tri_monthly', 'distance']]\n",
    "            \n",
    "    return df"
   ]
  },
  {
   "cell_type": "code",
   "execution_count": 56,
   "id": "24323b6c",
   "metadata": {
    "execution": {
     "iopub.execute_input": "2024-07-09T02:11:26.730868Z",
     "iopub.status.busy": "2024-07-09T02:11:26.730433Z",
     "iopub.status.idle": "2024-07-09T02:11:26.762068Z",
     "shell.execute_reply": "2024-07-09T02:11:26.761249Z"
    },
    "papermill": {
     "duration": 0.073928,
     "end_time": "2024-07-09T02:11:26.767808",
     "exception": false,
     "start_time": "2024-07-09T02:11:26.693880",
     "status": "completed"
    },
    "tags": []
   },
   "outputs": [
    {
     "name": "stdout",
     "output_type": "stream",
     "text": [
      "Total fare for early morning UBER Ride: $17.12\n"
     ]
    }
   ],
   "source": [
    "# predicting same ride at early morning\n",
    "ride_data = [{\n",
    "    'Unnamed: 0':  24983189,\n",
    "    'key': '2021-06-17 02:22:06.0001103',\n",
    "    'pickup_datetime': '2021-06-17 02:22:06 UTC',\n",
    "    'pickup_longitude': -73.999817,\n",
    "    'pickup_latitude': 40.738354,\n",
    "    'dropoff_longitude': -73.999512,\n",
    "    'dropoff_latitude': 40.723217,\n",
    "    'passenger_count': 3\n",
    "}]\n",
    "\n",
    "ride_data = pd.DataFrame(ride_data)\n",
    "data = preprocess_data(ride_data)\n",
    "fare_predicted_emrng = xgb_model.predict(data)\n",
    "print(f\"Total fare for early morning UBER Ride: ${fare_predicted_emrng[0]:.2f}\")"
   ]
  },
  {
   "cell_type": "code",
   "execution_count": 57,
   "id": "4a5a47cd",
   "metadata": {
    "execution": {
     "iopub.execute_input": "2024-07-09T02:11:26.840878Z",
     "iopub.status.busy": "2024-07-09T02:11:26.840468Z",
     "iopub.status.idle": "2024-07-09T02:11:26.892110Z",
     "shell.execute_reply": "2024-07-09T02:11:26.891265Z"
    },
    "papermill": {
     "duration": 0.094348,
     "end_time": "2024-07-09T02:11:26.897328",
     "exception": false,
     "start_time": "2024-07-09T02:11:26.802980",
     "status": "completed"
    },
    "tags": []
   },
   "outputs": [
    {
     "name": "stdout",
     "output_type": "stream",
     "text": [
      "Total fare for evening UBER Ride: $18.60\n"
     ]
    }
   ],
   "source": [
    "# predicting a ride for 3 people in evening\n",
    "ride_data = [{\n",
    "    'Unnamed: 0':  24983189,\n",
    "    'key': '2021-06-17 19:22:06.0001103',\n",
    "    'pickup_datetime': '2021-06-17 19:22:06 UTC',\n",
    "    'pickup_longitude': -73.999817,\n",
    "    'pickup_latitude': 40.738354,\n",
    "    'dropoff_longitude': -73.999512,\n",
    "    'dropoff_latitude': 40.723217,\n",
    "    'passenger_count': 3\n",
    "}]\n",
    "\n",
    "ride_data = pd.DataFrame(ride_data)\n",
    "data = preprocess_data(ride_data)\n",
    "fare_predicted_evng = xgb_model.predict(data)\n",
    "print(f\"Total fare for evening UBER Ride: ${fare_predicted_evng[0]:.2f}\")"
   ]
  },
  {
   "cell_type": "code",
   "execution_count": 58,
   "id": "1a0cc62b",
   "metadata": {
    "execution": {
     "iopub.execute_input": "2024-07-09T02:11:26.970412Z",
     "iopub.status.busy": "2024-07-09T02:11:26.970023Z",
     "iopub.status.idle": "2024-07-09T02:11:27.004403Z",
     "shell.execute_reply": "2024-07-09T02:11:27.003475Z"
    },
    "papermill": {
     "duration": 0.075675,
     "end_time": "2024-07-09T02:11:27.009111",
     "exception": false,
     "start_time": "2024-07-09T02:11:26.933436",
     "status": "completed"
    },
    "tags": []
   },
   "outputs": [
    {
     "name": "stdout",
     "output_type": "stream",
     "text": [
      "Total fare for late night UBER Ride: $17.86\n"
     ]
    }
   ],
   "source": [
    "# predicting same ride at late night\n",
    "ride_data = [{\n",
    "    'Unnamed: 0':  24983189,\n",
    "    'key': '2021-06-17 23:22:06.0001103',\n",
    "    'pickup_datetime': '2021-06-17 23:22:06 UTC',\n",
    "    'pickup_longitude': -73.999817,\n",
    "    'pickup_latitude': 40.738354,\n",
    "    'dropoff_longitude': -73.999512,\n",
    "    'dropoff_latitude': 40.723217,\n",
    "    'passenger_count': 3\n",
    "}]\n",
    "\n",
    "ride_data = pd.DataFrame(ride_data)\n",
    "data = preprocess_data(ride_data)\n",
    "fare_predicted_lnight = xgb_model.predict(data)\n",
    "print(f\"Total fare for late night UBER Ride: ${fare_predicted_lnight[0]:.2f}\")"
   ]
  },
  {
   "cell_type": "markdown",
   "id": "646f91fe",
   "metadata": {
    "papermill": {
     "duration": 0.035915,
     "end_time": "2024-07-09T02:11:27.080494",
     "exception": false,
     "start_time": "2024-07-09T02:11:27.044579",
     "status": "completed"
    },
    "tags": []
   },
   "source": [
    "- Plotting the results"
   ]
  },
  {
   "cell_type": "code",
   "execution_count": 59,
   "id": "5f4b6894",
   "metadata": {
    "execution": {
     "iopub.execute_input": "2024-07-09T02:11:27.153889Z",
     "iopub.status.busy": "2024-07-09T02:11:27.153094Z",
     "iopub.status.idle": "2024-07-09T02:11:27.400913Z",
     "shell.execute_reply": "2024-07-09T02:11:27.399746Z"
    },
    "papermill": {
     "duration": 0.287648,
     "end_time": "2024-07-09T02:11:27.403761",
     "exception": false,
     "start_time": "2024-07-09T02:11:27.116113",
     "status": "completed"
    },
    "tags": []
   },
   "outputs": [
    {
     "data": {
      "image/png": "[encoded data removed]",
      "text/plain": [
       "<Figure size 900x300 with 1 Axes>"
      ]
     },
     "metadata": {},
     "output_type": "display_data"
    }
   ],
   "source": [
    "predicted_fare = {\n",
    "    'Early Morning' : fare_predicted_emrng[0],\n",
    "    'Evening' : fare_predicted_evng[0],\n",
    "    'Late Night' : fare_predicted_lnight[0]\n",
    "}\n",
    "\n",
    "# Plotting model accuracies\n",
    "plt.figure(figsize=(9, 3))\n",
    "bars = plt.barh(list(predicted_fare.keys()), list(predicted_fare.values()))\n",
    "\n",
    "# Adding annotations\n",
    "for bar in bars:\n",
    "    width = bar.get_width()\n",
    "    plt.text(width + 0.01, bar.get_y() + bar.get_height()/2, \n",
    "             '{:.5f}'.format(round(width, 5)), \n",
    "             ha='left', \n",
    "             va='center'\n",
    ")\n",
    "\n",
    "plt.ylabel('Time of the Day', fontweight='bold')\n",
    "plt.xlabel('Fare ($)', fontweight='bold')\n",
    "plt.title('Dynamic fare for the day', fontweight='bold')\n",
    "plt.xlim(17, 19)\n",
    "plt.show()"
   ]
  },
  {
   "cell_type": "markdown",
   "id": "daa92189",
   "metadata": {
    "papermill": {
     "duration": 0.035495,
     "end_time": "2024-07-09T02:11:27.475754",
     "exception": false,
     "start_time": "2024-07-09T02:11:27.440259",
     "status": "completed"
    },
    "tags": []
   },
   "source": [
    "# **🌟 Conclusion**"
   ]
  },
  {
   "cell_type": "markdown",
   "id": "c5146398",
   "metadata": {
    "execution": {
     "iopub.execute_input": "2024-07-08T13:16:08.226167Z",
     "iopub.status.busy": "2024-07-08T13:16:08.225806Z",
     "iopub.status.idle": "2024-07-08T13:16:08.260277Z",
     "shell.execute_reply": "2024-07-08T13:16:08.258847Z",
     "shell.execute_reply.started": "2024-07-08T13:16:08.226139Z"
    },
    "papermill": {
     "duration": 0.035299,
     "end_time": "2024-07-09T02:11:27.547150",
     "exception": false,
     "start_time": "2024-07-09T02:11:27.511851",
     "status": "completed"
    },
    "tags": []
   },
   "source": [
    "Thus, we can see that the system designed can automatically adjust the **`Total Fare`** for a ride from the same **`pickup`** to **`dropoff`** location with the same number of people, for different times of the day, acting as a smart and dynamic system."
   ]
  },
  {
   "cell_type": "markdown",
   "id": "22047e92",
   "metadata": {
    "papermill": {
     "duration": 0.035558,
     "end_time": "2024-07-09T02:11:27.618228",
     "exception": false,
     "start_time": "2024-07-09T02:11:27.582670",
     "status": "completed"
    },
    "tags": []
   },
   "source": [
    "# **🙏 THANK YOU**\n",
    "---"
   ]
  }
 ],
 "metadata": {
  "kaggle": {
   "accelerator": "none",
   "dataSources": [
    {
     "datasetId": 1834623,
     "sourceId": 2994100,
     "sourceType": "datasetVersion"
    }
   ],
   "dockerImageVersionId": 30732,
   "isGpuEnabled": false,
   "isInternetEnabled": true,
   "language": "python",
   "sourceType": "notebook"
  },
  "kernelspec": {
   "display_name": "base",
   "language": "python",
   "name": "python3"
  },
  "language_info": {
   "codemirror_mode": {
    "name": "ipython",
    "version": 3
   },
   "file_extension": ".py",
   "mimetype": "text/x-python",
   "name": "python",
   "nbconvert_exporter": "python",
   "pygments_lexer": "ipython3",
   "version": "3.12.7"
  },
  "papermill": {
   "default_parameters": {},
   "duration": 297.476586,
   "end_time": "2024-07-09T02:11:28.476897",
   "environment_variables": {},
   "exception": null,
   "input_path": "__notebook__.ipynb",
   "output_path": "__notebook__.ipynb",
   "parameters": {},
   "start_time": "2024-07-09T02:06:31.000311",
   "version": "2.5.0"
  }
 },
 "nbformat": 4,
 "nbformat_minor": 5
}
